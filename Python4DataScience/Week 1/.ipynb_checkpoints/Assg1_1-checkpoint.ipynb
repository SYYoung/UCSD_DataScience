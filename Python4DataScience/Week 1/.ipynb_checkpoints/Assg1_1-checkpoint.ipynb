{
 "cells": [
  {
   "cell_type": "code",
   "execution_count": 2,
   "metadata": {},
   "outputs": [],
   "source": [
    "import collections"
   ]
  },
  {
   "cell_type": "code",
   "execution_count": 30,
   "metadata": {},
   "outputs": [],
   "source": [
    "stopwords =  set(line.strip() for line in open('stopwords'))"
   ]
  },
  {
   "cell_type": "code",
   "execution_count": 44,
   "metadata": {},
   "outputs": [
    {
     "data": {
      "text/plain": [
       "<_io.TextIOWrapper name='98-0.txt' mode='r' encoding='utf8'>"
      ]
     },
     "execution_count": 44,
     "metadata": {},
     "output_type": "execute_result"
    }
   ],
   "source": [
    "file = open('98-0.txt', encoding='utf8')\n",
    "file"
   ]
  },
  {
   "cell_type": "code",
   "execution_count": 45,
   "metadata": {},
   "outputs": [],
   "source": [
    "wordcount = {}"
   ]
  },
  {
   "cell_type": "code",
   "execution_count": 46,
   "metadata": {},
   "outputs": [
    {
     "name": "stdout",
     "output_type": "stream",
     "text": [
      "said  :  642\n",
      "mr  :  616\n",
      "one  :  420\n",
      "lorry  :  313\n",
      "will  :  290\n",
      "upon  :  289\n",
      "little  :  264\n",
      "man  :  259\n",
      "defarge  :  259\n",
      "time  :  236\n"
     ]
    }
   ],
   "source": [
    "for word in file.read().lower().split():\n",
    "    word = word.replace(\".\",\"\")\n",
    "    word = word.replace(\",\", \"\")\n",
    "    word = word.replace(\"\\\"\", \"\")\n",
    "    word = word.replace(\"“\", \"\")\n",
    "    \n",
    "    if word not in stopwords:\n",
    "        if word not in wordcount:\n",
    "            wordcount[word] = 1\n",
    "        else:\n",
    "            wordcount[word] += 1\n",
    "d = collections.Counter(wordcount)\n",
    "for word,count in d.most_common(10):\n",
    "    print(word, ' : ', count)"
   ]
  },
  {
   "cell_type": "code",
   "execution_count": 49,
   "metadata": {},
   "outputs": [
    {
     "name": "stdout",
     "output_type": "stream",
     "text": [
      "[('said', 642), ('mr', 616), ('one', 420), ('lorry', 313), ('will', 290), ('upon', 289), ('little', 264), ('man', 259), ('defarge', 259), ('time', 236)]\n"
     ]
    }
   ],
   "source": [
    "print(d.most_common(10))"
   ]
  },
  {
   "cell_type": "code",
   "execution_count": null,
   "metadata": {},
   "outputs": [],
   "source": []
  }
 ],
 "metadata": {
  "kernelspec": {
   "display_name": "Python 3",
   "language": "python",
   "name": "python3"
  },
  "language_info": {
   "codemirror_mode": {
    "name": "ipython",
    "version": 3
   },
   "file_extension": ".py",
   "mimetype": "text/x-python",
   "name": "python",
   "nbconvert_exporter": "python",
   "pygments_lexer": "ipython3",
   "version": "3.5.4"
  }
 },
 "nbformat": 4,
 "nbformat_minor": 2
}
