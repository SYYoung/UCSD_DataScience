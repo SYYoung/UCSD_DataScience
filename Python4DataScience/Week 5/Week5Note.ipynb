{
 "cells": [
  {
   "cell_type": "code",
   "execution_count": 46,
   "metadata": {
    "collapsed": true
   },
   "outputs": [],
   "source": [
    "import pandas as pd\n",
    "import numpy as np\n",
    "import matplotlib.pyplot as plt\n",
    "%matplotlib inline"
   ]
  },
  {
   "cell_type": "code",
   "execution_count": 47,
   "metadata": {
    "collapsed": true
   },
   "outputs": [],
   "source": [
    "x = [0.9, 2.7, 6.7, 10.9, 6.0, 6.3, 7.0, 8.7, 4.8, 12.5, \n",
    "     13.4, 2.0, 3.6, 14.6]\n",
    "y = [0.5, 1.1, 28.6, 32.8, 15.7, 19, 32.6, 32.3, 7.3, 33.1, \n",
    "     32.9, 0.75, 3.6, 33]"
   ]
  },
  {
   "cell_type": "code",
   "execution_count": 48,
   "metadata": {},
   "outputs": [
    {
     "data": {
      "text/html": [
       "<div>\n",
       "<style scoped>\n",
       "    .dataframe tbody tr th:only-of-type {\n",
       "        vertical-align: middle;\n",
       "    }\n",
       "\n",
       "    .dataframe tbody tr th {\n",
       "        vertical-align: top;\n",
       "    }\n",
       "\n",
       "    .dataframe thead th {\n",
       "        text-align: right;\n",
       "    }\n",
       "</style>\n",
       "<table border=\"1\" class=\"dataframe\">\n",
       "  <thead>\n",
       "    <tr style=\"text-align: right;\">\n",
       "      <th></th>\n",
       "      <th>x</th>\n",
       "      <th>y</th>\n",
       "    </tr>\n",
       "  </thead>\n",
       "  <tbody>\n",
       "    <tr>\n",
       "      <th>0</th>\n",
       "      <td>0.9</td>\n",
       "      <td>0.50</td>\n",
       "    </tr>\n",
       "    <tr>\n",
       "      <th>11</th>\n",
       "      <td>2.0</td>\n",
       "      <td>0.75</td>\n",
       "    </tr>\n",
       "    <tr>\n",
       "      <th>1</th>\n",
       "      <td>2.7</td>\n",
       "      <td>1.10</td>\n",
       "    </tr>\n",
       "    <tr>\n",
       "      <th>12</th>\n",
       "      <td>3.6</td>\n",
       "      <td>3.60</td>\n",
       "    </tr>\n",
       "    <tr>\n",
       "      <th>8</th>\n",
       "      <td>4.8</td>\n",
       "      <td>7.30</td>\n",
       "    </tr>\n",
       "    <tr>\n",
       "      <th>4</th>\n",
       "      <td>6.0</td>\n",
       "      <td>15.70</td>\n",
       "    </tr>\n",
       "    <tr>\n",
       "      <th>5</th>\n",
       "      <td>6.3</td>\n",
       "      <td>19.00</td>\n",
       "    </tr>\n",
       "    <tr>\n",
       "      <th>2</th>\n",
       "      <td>6.7</td>\n",
       "      <td>28.60</td>\n",
       "    </tr>\n",
       "    <tr>\n",
       "      <th>6</th>\n",
       "      <td>7.0</td>\n",
       "      <td>32.60</td>\n",
       "    </tr>\n",
       "    <tr>\n",
       "      <th>7</th>\n",
       "      <td>8.7</td>\n",
       "      <td>32.30</td>\n",
       "    </tr>\n",
       "    <tr>\n",
       "      <th>3</th>\n",
       "      <td>10.9</td>\n",
       "      <td>32.80</td>\n",
       "    </tr>\n",
       "    <tr>\n",
       "      <th>9</th>\n",
       "      <td>12.5</td>\n",
       "      <td>33.10</td>\n",
       "    </tr>\n",
       "    <tr>\n",
       "      <th>10</th>\n",
       "      <td>13.4</td>\n",
       "      <td>32.90</td>\n",
       "    </tr>\n",
       "    <tr>\n",
       "      <th>13</th>\n",
       "      <td>14.6</td>\n",
       "      <td>33.00</td>\n",
       "    </tr>\n",
       "  </tbody>\n",
       "</table>\n",
       "</div>"
      ],
      "text/plain": [
       "       x      y\n",
       "0    0.9   0.50\n",
       "11   2.0   0.75\n",
       "1    2.7   1.10\n",
       "12   3.6   3.60\n",
       "8    4.8   7.30\n",
       "4    6.0  15.70\n",
       "5    6.3  19.00\n",
       "2    6.7  28.60\n",
       "6    7.0  32.60\n",
       "7    8.7  32.30\n",
       "3   10.9  32.80\n",
       "9   12.5  33.10\n",
       "10  13.4  32.90\n",
       "13  14.6  33.00"
      ]
     },
     "execution_count": 48,
     "metadata": {},
     "output_type": "execute_result"
    }
   ],
   "source": [
    "val = pd.DataFrame({'x':x, 'y':y})\n",
    "val = val.sort_values(by='x')\n",
    "val"
   ]
  },
  {
   "cell_type": "code",
   "execution_count": 49,
   "metadata": {},
   "outputs": [
    {
     "data": {
      "text/plain": [
       "[<matplotlib.lines.Line2D at 0x11f7e3f28>]"
      ]
     },
     "execution_count": 49,
     "metadata": {},
     "output_type": "execute_result"
    },
    {
     "data": {
      "image/png": "[encoded data removed]",
      "text/plain": [
       "<Figure size 432x288 with 1 Axes>"
      ]
     },
     "metadata": {},
     "output_type": "display_data"
    }
   ],
   "source": [
    "plt.plot(val['x'], val['y'])"
   ]
  },
  {
   "cell_type": "code",
   "execution_count": 50,
   "metadata": {},
   "outputs": [
    {
     "data": {
      "text/html": [
       "<div>\n",
       "<style scoped>\n",
       "    .dataframe tbody tr th:only-of-type {\n",
       "        vertical-align: middle;\n",
       "    }\n",
       "\n",
       "    .dataframe tbody tr th {\n",
       "        vertical-align: top;\n",
       "    }\n",
       "\n",
       "    .dataframe thead th {\n",
       "        text-align: right;\n",
       "    }\n",
       "</style>\n",
       "<table border=\"1\" class=\"dataframe\">\n",
       "  <thead>\n",
       "    <tr style=\"text-align: right;\">\n",
       "      <th></th>\n",
       "      <th>x</th>\n",
       "      <th>y</th>\n",
       "    </tr>\n",
       "  </thead>\n",
       "  <tbody>\n",
       "    <tr>\n",
       "      <th>count</th>\n",
       "      <td>14.000000</td>\n",
       "      <td>14.000000</td>\n",
       "    </tr>\n",
       "    <tr>\n",
       "      <th>mean</th>\n",
       "      <td>7.150000</td>\n",
       "      <td>19.517857</td>\n",
       "    </tr>\n",
       "    <tr>\n",
       "      <th>std</th>\n",
       "      <td>4.345068</td>\n",
       "      <td>14.167618</td>\n",
       "    </tr>\n",
       "    <tr>\n",
       "      <th>min</th>\n",
       "      <td>0.900000</td>\n",
       "      <td>0.500000</td>\n",
       "    </tr>\n",
       "    <tr>\n",
       "      <th>25%</th>\n",
       "      <td>3.900000</td>\n",
       "      <td>4.525000</td>\n",
       "    </tr>\n",
       "    <tr>\n",
       "      <th>50%</th>\n",
       "      <td>6.500000</td>\n",
       "      <td>23.800000</td>\n",
       "    </tr>\n",
       "    <tr>\n",
       "      <th>75%</th>\n",
       "      <td>10.350000</td>\n",
       "      <td>32.750000</td>\n",
       "    </tr>\n",
       "    <tr>\n",
       "      <th>max</th>\n",
       "      <td>14.600000</td>\n",
       "      <td>33.100000</td>\n",
       "    </tr>\n",
       "  </tbody>\n",
       "</table>\n",
       "</div>"
      ],
      "text/plain": [
       "               x          y\n",
       "count  14.000000  14.000000\n",
       "mean    7.150000  19.517857\n",
       "std     4.345068  14.167618\n",
       "min     0.900000   0.500000\n",
       "25%     3.900000   4.525000\n",
       "50%     6.500000  23.800000\n",
       "75%    10.350000  32.750000\n",
       "max    14.600000  33.100000"
      ]
     },
     "execution_count": 50,
     "metadata": {},
     "output_type": "execute_result"
    }
   ],
   "source": [
    "val.describe()"
   ]
  },
  {
   "cell_type": "markdown",
   "metadata": {},
   "source": [
    "## World Development Indicators"
   ]
  },
  {
   "cell_type": "code",
   "execution_count": 51,
   "metadata": {
    "collapsed": true
   },
   "outputs": [],
   "source": [
    "import random"
   ]
  },
  {
   "cell_type": "code",
   "execution_count": 52,
   "metadata": {
    "collapsed": true
   },
   "outputs": [],
   "source": [
    "data = pd.read_csv('./Week5-Visualization/world-development-indicators/Indicators.csv')"
   ]
  },
  {
   "cell_type": "code",
   "execution_count": 53,
   "metadata": {},
   "outputs": [
    {
     "data": {
      "text/plain": [
       "(5656458, 6)"
      ]
     },
     "execution_count": 53,
     "metadata": {},
     "output_type": "execute_result"
    }
   ],
   "source": [
    "data.head(5)\n",
    "data.shape"
   ]
  },
  {
   "cell_type": "code",
   "execution_count": 54,
   "metadata": {},
   "outputs": [
    {
     "data": {
      "text/html": [
       "<div>\n",
       "<style scoped>\n",
       "    .dataframe tbody tr th:only-of-type {\n",
       "        vertical-align: middle;\n",
       "    }\n",
       "\n",
       "    .dataframe tbody tr th {\n",
       "        vertical-align: top;\n",
       "    }\n",
       "\n",
       "    .dataframe thead th {\n",
       "        text-align: right;\n",
       "    }\n",
       "</style>\n",
       "<table border=\"1\" class=\"dataframe\">\n",
       "  <thead>\n",
       "    <tr style=\"text-align: right;\">\n",
       "      <th></th>\n",
       "      <th>CountryName</th>\n",
       "      <th>CountryCode</th>\n",
       "      <th>IndicatorName</th>\n",
       "      <th>IndicatorCode</th>\n",
       "      <th>Year</th>\n",
       "      <th>Value</th>\n",
       "    </tr>\n",
       "  </thead>\n",
       "  <tbody>\n",
       "    <tr>\n",
       "      <th>0</th>\n",
       "      <td>Arab World</td>\n",
       "      <td>ARB</td>\n",
       "      <td>Adolescent fertility rate (births per 1,000 wo...</td>\n",
       "      <td>SP.ADO.TFRT</td>\n",
       "      <td>1960</td>\n",
       "      <td>133.560907</td>\n",
       "    </tr>\n",
       "    <tr>\n",
       "      <th>1</th>\n",
       "      <td>Arab World</td>\n",
       "      <td>ARB</td>\n",
       "      <td>Age dependency ratio (% of working-age populat...</td>\n",
       "      <td>SP.POP.DPND</td>\n",
       "      <td>1960</td>\n",
       "      <td>87.797601</td>\n",
       "    </tr>\n",
       "  </tbody>\n",
       "</table>\n",
       "</div>"
      ],
      "text/plain": [
       "  CountryName CountryCode                                      IndicatorName  \\\n",
       "0  Arab World         ARB  Adolescent fertility rate (births per 1,000 wo...   \n",
       "1  Arab World         ARB  Age dependency ratio (% of working-age populat...   \n",
       "\n",
       "  IndicatorCode  Year       Value  \n",
       "0   SP.ADO.TFRT  1960  133.560907  \n",
       "1   SP.POP.DPND  1960   87.797601  "
      ]
     },
     "execution_count": 54,
     "metadata": {},
     "output_type": "execute_result"
    }
   ],
   "source": [
    "data.head(2)"
   ]
  },
  {
   "cell_type": "code",
   "execution_count": 55,
   "metadata": {},
   "outputs": [
    {
     "data": {
      "text/plain": [
       "247"
      ]
     },
     "execution_count": 55,
     "metadata": {},
     "output_type": "execute_result"
    }
   ],
   "source": [
    "countries = data['CountryCode'].unique().tolist()\n",
    "len(countries)"
   ]
  },
  {
   "cell_type": "code",
   "execution_count": 56,
   "metadata": {},
   "outputs": [
    {
     "data": {
      "text/plain": [
       "numpy.ndarray"
      ]
     },
     "execution_count": 56,
     "metadata": {},
     "output_type": "execute_result"
    }
   ],
   "source": [
    "countryCodes = data['CountryName'].unique().tolist()\n",
    "len(countryCodes)\n",
    "type(data['CountryName'].unique())"
   ]
  },
  {
   "cell_type": "code",
   "execution_count": 57,
   "metadata": {},
   "outputs": [
    {
     "data": {
      "text/plain": [
       "1344"
      ]
     },
     "execution_count": 57,
     "metadata": {},
     "output_type": "execute_result"
    }
   ],
   "source": [
    "indicators = data['IndicatorName'].unique().tolist()\n",
    "len(indicators)"
   ]
  },
  {
   "cell_type": "code",
   "execution_count": 58,
   "metadata": {},
   "outputs": [
    {
     "data": {
      "text/plain": [
       "56"
      ]
     },
     "execution_count": 58,
     "metadata": {},
     "output_type": "execute_result"
    }
   ],
   "source": [
    "years = data['Year'].unique().tolist()\n",
    "len(years)"
   ]
  },
  {
   "cell_type": "code",
   "execution_count": 59,
   "metadata": {},
   "outputs": [
    {
     "name": "stdout",
     "output_type": "stream",
     "text": [
      "1960 2015\n"
     ]
    }
   ],
   "source": [
    "print(min(years), max(years))"
   ]
  },
  {
   "cell_type": "markdown",
   "metadata": {},
   "source": [
    "## Basic Plotting in Matplotlib: Part 1"
   ]
  },
  {
   "cell_type": "code",
   "execution_count": 60,
   "metadata": {},
   "outputs": [
    {
     "data": {
      "text/html": [
       "<div>\n",
       "<style scoped>\n",
       "    .dataframe tbody tr th:only-of-type {\n",
       "        vertical-align: middle;\n",
       "    }\n",
       "\n",
       "    .dataframe tbody tr th {\n",
       "        vertical-align: top;\n",
       "    }\n",
       "\n",
       "    .dataframe thead th {\n",
       "        text-align: right;\n",
       "    }\n",
       "</style>\n",
       "<table border=\"1\" class=\"dataframe\">\n",
       "  <thead>\n",
       "    <tr style=\"text-align: right;\">\n",
       "      <th></th>\n",
       "      <th>CountryName</th>\n",
       "      <th>CountryCode</th>\n",
       "      <th>IndicatorName</th>\n",
       "      <th>IndicatorCode</th>\n",
       "      <th>Year</th>\n",
       "      <th>Value</th>\n",
       "    </tr>\n",
       "  </thead>\n",
       "  <tbody>\n",
       "    <tr>\n",
       "      <th>0</th>\n",
       "      <td>Arab World</td>\n",
       "      <td>ARB</td>\n",
       "      <td>Adolescent fertility rate (births per 1,000 wo...</td>\n",
       "      <td>SP.ADO.TFRT</td>\n",
       "      <td>1960</td>\n",
       "      <td>133.560907</td>\n",
       "    </tr>\n",
       "    <tr>\n",
       "      <th>1</th>\n",
       "      <td>Arab World</td>\n",
       "      <td>ARB</td>\n",
       "      <td>Age dependency ratio (% of working-age populat...</td>\n",
       "      <td>SP.POP.DPND</td>\n",
       "      <td>1960</td>\n",
       "      <td>87.797601</td>\n",
       "    </tr>\n",
       "  </tbody>\n",
       "</table>\n",
       "</div>"
      ],
      "text/plain": [
       "  CountryName CountryCode                                      IndicatorName  \\\n",
       "0  Arab World         ARB  Adolescent fertility rate (births per 1,000 wo...   \n",
       "1  Arab World         ARB  Age dependency ratio (% of working-age populat...   \n",
       "\n",
       "  IndicatorCode  Year       Value  \n",
       "0   SP.ADO.TFRT  1960  133.560907  \n",
       "1   SP.POP.DPND  1960   87.797601  "
      ]
     },
     "execution_count": 60,
     "metadata": {},
     "output_type": "execute_result"
    }
   ],
   "source": [
    "data.head(2)"
   ]
  },
  {
   "cell_type": "code",
   "execution_count": 61,
   "metadata": {
    "collapsed": true
   },
   "outputs": [],
   "source": [
    "hist_indicator = 'CO2 emissions \\(metric'\n",
    "hist_country = 'USA'\n",
    "\n",
    "mask1 = data['IndicatorName'].str.contains(hist_indicator)\n",
    "mask2 = data['CountryCode'].str.contains(hist_country)\n",
    "\n",
    "stage = data[mask1 & mask2]"
   ]
  },
  {
   "cell_type": "code",
   "execution_count": 62,
   "metadata": {},
   "outputs": [
    {
     "data": {
      "text/html": [
       "<div>\n",
       "<style scoped>\n",
       "    .dataframe tbody tr th:only-of-type {\n",
       "        vertical-align: middle;\n",
       "    }\n",
       "\n",
       "    .dataframe tbody tr th {\n",
       "        vertical-align: top;\n",
       "    }\n",
       "\n",
       "    .dataframe thead th {\n",
       "        text-align: right;\n",
       "    }\n",
       "</style>\n",
       "<table border=\"1\" class=\"dataframe\">\n",
       "  <thead>\n",
       "    <tr style=\"text-align: right;\">\n",
       "      <th></th>\n",
       "      <th>CountryName</th>\n",
       "      <th>CountryCode</th>\n",
       "      <th>IndicatorName</th>\n",
       "      <th>IndicatorCode</th>\n",
       "      <th>Year</th>\n",
       "      <th>Value</th>\n",
       "    </tr>\n",
       "  </thead>\n",
       "  <tbody>\n",
       "    <tr>\n",
       "      <th>22232</th>\n",
       "      <td>United States</td>\n",
       "      <td>USA</td>\n",
       "      <td>CO2 emissions (metric tons per capita)</td>\n",
       "      <td>EN.ATM.CO2E.PC</td>\n",
       "      <td>1960</td>\n",
       "      <td>15.999779</td>\n",
       "    </tr>\n",
       "    <tr>\n",
       "      <th>48708</th>\n",
       "      <td>United States</td>\n",
       "      <td>USA</td>\n",
       "      <td>CO2 emissions (metric tons per capita)</td>\n",
       "      <td>EN.ATM.CO2E.PC</td>\n",
       "      <td>1961</td>\n",
       "      <td>15.681256</td>\n",
       "    </tr>\n",
       "  </tbody>\n",
       "</table>\n",
       "</div>"
      ],
      "text/plain": [
       "         CountryName CountryCode                           IndicatorName  \\\n",
       "22232  United States         USA  CO2 emissions (metric tons per capita)   \n",
       "48708  United States         USA  CO2 emissions (metric tons per capita)   \n",
       "\n",
       "        IndicatorCode  Year      Value  \n",
       "22232  EN.ATM.CO2E.PC  1960  15.999779  \n",
       "48708  EN.ATM.CO2E.PC  1961  15.681256  "
      ]
     },
     "execution_count": 62,
     "metadata": {},
     "output_type": "execute_result"
    }
   ],
   "source": [
    "stage.head(2)"
   ]
  },
  {
   "cell_type": "code",
   "execution_count": 63,
   "metadata": {
    "collapsed": true
   },
   "outputs": [],
   "source": [
    "#dir(pd.Series)"
   ]
  },
  {
   "cell_type": "code",
   "execution_count": 64,
   "metadata": {
    "collapsed": true
   },
   "outputs": [],
   "source": [
    "years = stage['Year'].values\n",
    "co2 = stage['Value'].values"
   ]
  },
  {
   "cell_type": "code",
   "execution_count": 65,
   "metadata": {},
   "outputs": [
    {
     "data": {
      "image/png": "[encoded data removed]",
      "text/plain": [
       "<Figure size 432x288 with 1 Axes>"
      ]
     },
     "metadata": {},
     "output_type": "display_data"
    }
   ],
   "source": [
    "plt.bar(years, co2)\n",
    "plt.show()"
   ]
  },
  {
   "cell_type": "code",
   "execution_count": 66,
   "metadata": {},
   "outputs": [
    {
     "data": {
      "image/png": "[encoded data removed]",
      "text/plain": [
       "<Figure size 432x288 with 1 Axes>"
      ]
     },
     "metadata": {},
     "output_type": "display_data"
    }
   ],
   "source": [
    "plt.plot(years, co2)\n",
    "plt.xlabel('Year')\n",
    "plt.ylabel(stage.IndicatorName.iloc[0])\n",
    "plt.title('CO2 Emissions in USA')\n",
    "plt.axis([1960,2010,0,25])\n",
    "plt.show()"
   ]
  },
  {
   "cell_type": "code",
   "execution_count": 67,
   "metadata": {},
   "outputs": [
    {
     "data": {
      "text/plain": [
       "'CO2 emissions (metric tons per capita)'"
      ]
     },
     "execution_count": 67,
     "metadata": {},
     "output_type": "execute_result"
    }
   ],
   "source": [
    "stage.IndicatorName.iloc[0]"
   ]
  },
  {
   "cell_type": "code",
   "execution_count": 68,
   "metadata": {},
   "outputs": [
    {
     "name": "stdout",
     "output_type": "stream",
     "text": [
      "Help on property:\n",
      "\n",
      "    Access a group of rows and columns by label(s) or a boolean array.\n",
      "    \n",
      "    ``.loc[]`` is primarily label based, but may also be used with a\n",
      "    boolean array.\n",
      "    \n",
      "    Allowed inputs are:\n",
      "    \n",
      "    - A single label, e.g. ``5`` or ``'a'``, (note that ``5`` is\n",
      "      interpreted as a *label* of the index, and **never** as an\n",
      "      integer position along the index).\n",
      "    - A list or array of labels, e.g. ``['a', 'b', 'c']``.\n",
      "    - A slice object with labels, e.g. ``'a':'f'``.\n",
      "    \n",
      "      .. warning:: Note that contrary to usual python slices, **both** the\n",
      "          start and the stop are included\n",
      "    \n",
      "    - A boolean array of the same length as the axis being sliced,\n",
      "      e.g. ``[True, False, True]``.\n",
      "    - A ``callable`` function with one argument (the calling Series, DataFrame\n",
      "      or Panel) and that returns valid output for indexing (one of the above)\n",
      "    \n",
      "    See more at :ref:`Selection by Label <indexing.label>`\n",
      "    \n",
      "    Raises\n",
      "    ------\n",
      "    KeyError:\n",
      "        when any items are not found\n",
      "    \n",
      "    See Also\n",
      "    --------\n",
      "    DataFrame.at : Access a single value for a row/column label pair.\n",
      "    DataFrame.iloc : Access group of rows and columns by integer position(s).\n",
      "    DataFrame.xs : Returns a cross-section (row(s) or column(s)) from the\n",
      "        Series/DataFrame.\n",
      "    Series.loc : Access group of values using labels.\n",
      "    \n",
      "    Examples\n",
      "    --------\n",
      "    **Getting values**\n",
      "    \n",
      "    >>> df = pd.DataFrame([[1, 2], [4, 5], [7, 8]],\n",
      "    ...      index=['cobra', 'viper', 'sidewinder'],\n",
      "    ...      columns=['max_speed', 'shield'])\n",
      "    >>> df\n",
      "                max_speed  shield\n",
      "    cobra               1       2\n",
      "    viper               4       5\n",
      "    sidewinder          7       8\n",
      "    \n",
      "    Single label. Note this returns the row as a Series.\n",
      "    \n",
      "    >>> df.loc['viper']\n",
      "    max_speed    4\n",
      "    shield       5\n",
      "    Name: viper, dtype: int64\n",
      "    \n",
      "    List of labels. Note using ``[[]]`` returns a DataFrame.\n",
      "    \n",
      "    >>> df.loc[['viper', 'sidewinder']]\n",
      "                max_speed  shield\n",
      "    viper               4       5\n",
      "    sidewinder          7       8\n",
      "    \n",
      "    Single label for row and column\n",
      "    \n",
      "    >>> df.loc['cobra', 'shield']\n",
      "    2\n",
      "    \n",
      "    Slice with labels for row and single label for column. As mentioned\n",
      "    above, note that both the start and stop of the slice are included.\n",
      "    \n",
      "    >>> df.loc['cobra':'viper', 'max_speed']\n",
      "    cobra    1\n",
      "    viper    4\n",
      "    Name: max_speed, dtype: int64\n",
      "    \n",
      "    Boolean list with the same length as the row axis\n",
      "    \n",
      "    >>> df.loc[[False, False, True]]\n",
      "                max_speed  shield\n",
      "    sidewinder          7       8\n",
      "    \n",
      "    Conditional that returns a boolean Series\n",
      "    \n",
      "    >>> df.loc[df['shield'] > 6]\n",
      "                max_speed  shield\n",
      "    sidewinder          7       8\n",
      "    \n",
      "    Conditional that returns a boolean Series with column labels specified\n",
      "    \n",
      "    >>> df.loc[df['shield'] > 6, ['max_speed']]\n",
      "                max_speed\n",
      "    sidewinder          7\n",
      "    \n",
      "    Callable that returns a boolean Series\n",
      "    \n",
      "    >>> df.loc[lambda df: df['shield'] == 8]\n",
      "                max_speed  shield\n",
      "    sidewinder          7       8\n",
      "    \n",
      "    **Setting values**\n",
      "    \n",
      "    Set value for all items matching the list of labels\n",
      "    \n",
      "    >>> df.loc[['viper', 'sidewinder'], ['shield']] = 50\n",
      "    >>> df\n",
      "                max_speed  shield\n",
      "    cobra               1       2\n",
      "    viper               4      50\n",
      "    sidewinder          7      50\n",
      "    \n",
      "    Set value for an entire row\n",
      "    \n",
      "    >>> df.loc['cobra'] = 10\n",
      "    >>> df\n",
      "                max_speed  shield\n",
      "    cobra              10      10\n",
      "    viper               4      50\n",
      "    sidewinder          7      50\n",
      "    \n",
      "    Set value for an entire column\n",
      "    \n",
      "    >>> df.loc[:, 'max_speed'] = 30\n",
      "    >>> df\n",
      "                max_speed  shield\n",
      "    cobra              30      10\n",
      "    viper              30      50\n",
      "    sidewinder         30      50\n",
      "    \n",
      "    Set value for rows matching callable condition\n",
      "    \n",
      "    >>> df.loc[df['shield'] > 35] = 0\n",
      "    >>> df\n",
      "                max_speed  shield\n",
      "    cobra              30      10\n",
      "    viper               0       0\n",
      "    sidewinder          0       0\n",
      "    \n",
      "    **Getting values on a DataFrame with an index that has integer labels**\n",
      "    \n",
      "    Another example using integers for the index\n",
      "    \n",
      "    >>> df = pd.DataFrame([[1, 2], [4, 5], [7, 8]],\n",
      "    ...      index=[7, 8, 9], columns=['max_speed', 'shield'])\n",
      "    >>> df\n",
      "       max_speed  shield\n",
      "    7          1       2\n",
      "    8          4       5\n",
      "    9          7       8\n",
      "    \n",
      "    Slice with integer labels for rows. As mentioned above, note that both\n",
      "    the start and stop of the slice are included.\n",
      "    \n",
      "    >>> df.loc[7:9]\n",
      "       max_speed  shield\n",
      "    7          1       2\n",
      "    8          4       5\n",
      "    9          7       8\n",
      "    \n",
      "    **Getting values with a MultiIndex**\n",
      "    \n",
      "    A number of examples using a DataFrame with a MultiIndex\n",
      "    \n",
      "    >>> tuples = [\n",
      "    ...    ('cobra', 'mark i'), ('cobra', 'mark ii'),\n",
      "    ...    ('sidewinder', 'mark i'), ('sidewinder', 'mark ii'),\n",
      "    ...    ('viper', 'mark ii'), ('viper', 'mark iii')\n",
      "    ... ]\n",
      "    >>> index = pd.MultiIndex.from_tuples(tuples)\n",
      "    >>> values = [[12, 2], [0, 4], [10, 20],\n",
      "    ...         [1, 4], [7, 1], [16, 36]]\n",
      "    >>> df = pd.DataFrame(values, columns=['max_speed', 'shield'], index=index)\n",
      "    >>> df\n",
      "                         max_speed  shield\n",
      "    cobra      mark i           12       2\n",
      "               mark ii           0       4\n",
      "    sidewinder mark i           10      20\n",
      "               mark ii           1       4\n",
      "    viper      mark ii           7       1\n",
      "               mark iii         16      36\n",
      "    \n",
      "    Single label. Note this returns a DataFrame with a single index.\n",
      "    \n",
      "    >>> df.loc['cobra']\n",
      "             max_speed  shield\n",
      "    mark i          12       2\n",
      "    mark ii          0       4\n",
      "    \n",
      "    Single index tuple. Note this returns a Series.\n",
      "    \n",
      "    >>> df.loc[('cobra', 'mark ii')]\n",
      "    max_speed    0\n",
      "    shield       4\n",
      "    Name: (cobra, mark ii), dtype: int64\n",
      "    \n",
      "    Single label for row and column. Similar to passing in a tuple, this\n",
      "    returns a Series.\n",
      "    \n",
      "    >>> df.loc['cobra', 'mark i']\n",
      "    max_speed    12\n",
      "    shield        2\n",
      "    Name: (cobra, mark i), dtype: int64\n",
      "    \n",
      "    Single tuple. Note using ``[[]]`` returns a DataFrame.\n",
      "    \n",
      "    >>> df.loc[[('cobra', 'mark ii')]]\n",
      "                   max_speed  shield\n",
      "    cobra mark ii          0       4\n",
      "    \n",
      "    Single tuple for the index with a single label for the column\n",
      "    \n",
      "    >>> df.loc[('cobra', 'mark i'), 'shield']\n",
      "    2\n",
      "    \n",
      "    Slice from index tuple to single label\n",
      "    \n",
      "    >>> df.loc[('cobra', 'mark i'):'viper']\n",
      "                         max_speed  shield\n",
      "    cobra      mark i           12       2\n",
      "               mark ii           0       4\n",
      "    sidewinder mark i           10      20\n",
      "               mark ii           1       4\n",
      "    viper      mark ii           7       1\n",
      "               mark iii         16      36\n",
      "    \n",
      "    Slice from index tuple to index tuple\n",
      "    \n",
      "    >>> df.loc[('cobra', 'mark i'):('viper', 'mark ii')]\n",
      "                        max_speed  shield\n",
      "    cobra      mark i          12       2\n",
      "               mark ii          0       4\n",
      "    sidewinder mark i          10      20\n",
      "               mark ii          1       4\n",
      "    viper      mark ii          7       1\n",
      "\n"
     ]
    }
   ],
   "source": [
    "help(pd.DataFrame.loc)"
   ]
  },
  {
   "cell_type": "code",
   "execution_count": 69,
   "metadata": {},
   "outputs": [
    {
     "name": "stdout",
     "output_type": "stream",
     "text": [
      "52\n"
     ]
    }
   ],
   "source": [
    "hist_data = stage['Value'].values\n",
    "print(len(hist_data))"
   ]
  },
  {
   "cell_type": "code",
   "execution_count": 70,
   "metadata": {},
   "outputs": [
    {
     "name": "stderr",
     "output_type": "stream",
     "text": [
      "/Users/r38411/anaconda2/envs/py35/lib/python3.5/site-packages/matplotlib/axes/_axes.py:6521: MatplotlibDeprecationWarning: \n",
      "The 'normed' kwarg was deprecated in Matplotlib 2.1 and will be removed in 3.1. Use 'density' instead.\n",
      "  alternative=\"'density'\", removal=\"3.1\")\n"
     ]
    },
    {
     "data": {
      "image/png": "[encoded data removed]",
      "text/plain": [
       "<Figure size 432x288 with 1 Axes>"
      ]
     },
     "metadata": {},
     "output_type": "display_data"
    }
   ],
   "source": [
    "plt.hist(hist_data, 10, normed=False, facecolor='green')\n",
    "plt.xlabel(stage['IndicatorName'].iloc[0])\n",
    "plt.ylabel('# of years')\n",
    "plt.title('Histogram Example')\n",
    "plt.grid(True)\n",
    "plt.show()"
   ]
  },
  {
   "cell_type": "code",
   "execution_count": 71,
   "metadata": {
    "collapsed": true
   },
   "outputs": [],
   "source": [
    "#help(pd.Series.isin)"
   ]
  },
  {
   "cell_type": "code",
   "execution_count": 72,
   "metadata": {},
   "outputs": [
    {
     "data": {
      "text/html": [
       "<div>\n",
       "<style scoped>\n",
       "    .dataframe tbody tr th:only-of-type {\n",
       "        vertical-align: middle;\n",
       "    }\n",
       "\n",
       "    .dataframe tbody tr th {\n",
       "        vertical-align: top;\n",
       "    }\n",
       "\n",
       "    .dataframe thead th {\n",
       "        text-align: right;\n",
       "    }\n",
       "</style>\n",
       "<table border=\"1\" class=\"dataframe\">\n",
       "  <thead>\n",
       "    <tr style=\"text-align: right;\">\n",
       "      <th></th>\n",
       "      <th>CountryName</th>\n",
       "      <th>CountryCode</th>\n",
       "      <th>IndicatorName</th>\n",
       "      <th>IndicatorCode</th>\n",
       "      <th>Year</th>\n",
       "      <th>Value</th>\n",
       "    </tr>\n",
       "  </thead>\n",
       "  <tbody>\n",
       "    <tr>\n",
       "      <th>5026275</th>\n",
       "      <td>Arab World</td>\n",
       "      <td>ARB</td>\n",
       "      <td>CO2 emissions (metric tons per capita)</td>\n",
       "      <td>EN.ATM.CO2E.PC</td>\n",
       "      <td>2011</td>\n",
       "      <td>4.724500</td>\n",
       "    </tr>\n",
       "    <tr>\n",
       "      <th>5026788</th>\n",
       "      <td>Caribbean small states</td>\n",
       "      <td>CSS</td>\n",
       "      <td>CO2 emissions (metric tons per capita)</td>\n",
       "      <td>EN.ATM.CO2E.PC</td>\n",
       "      <td>2011</td>\n",
       "      <td>9.692960</td>\n",
       "    </tr>\n",
       "    <tr>\n",
       "      <th>5027295</th>\n",
       "      <td>Central Europe and the Baltics</td>\n",
       "      <td>CEB</td>\n",
       "      <td>CO2 emissions (metric tons per capita)</td>\n",
       "      <td>EN.ATM.CO2E.PC</td>\n",
       "      <td>2011</td>\n",
       "      <td>6.911131</td>\n",
       "    </tr>\n",
       "  </tbody>\n",
       "</table>\n",
       "</div>"
      ],
      "text/plain": [
       "                            CountryName CountryCode  \\\n",
       "5026275                      Arab World         ARB   \n",
       "5026788          Caribbean small states         CSS   \n",
       "5027295  Central Europe and the Baltics         CEB   \n",
       "\n",
       "                                  IndicatorName   IndicatorCode  Year  \\\n",
       "5026275  CO2 emissions (metric tons per capita)  EN.ATM.CO2E.PC  2011   \n",
       "5026788  CO2 emissions (metric tons per capita)  EN.ATM.CO2E.PC  2011   \n",
       "5027295  CO2 emissions (metric tons per capita)  EN.ATM.CO2E.PC  2011   \n",
       "\n",
       "            Value  \n",
       "5026275  4.724500  \n",
       "5026788  9.692960  \n",
       "5027295  6.911131  "
      ]
     },
     "execution_count": 72,
     "metadata": {},
     "output_type": "execute_result"
    }
   ],
   "source": [
    "hist_indicator = 'CO2 emissions \\(metric'\n",
    "hist_year = 2011\n",
    "\n",
    "mask1 = data['IndicatorName'].str.contains(hist_indicator)\n",
    "mask2 = data['Year'].isin([hist_year])\n",
    "\n",
    "co2_2011 = data[mask1 & mask2]\n",
    "co2_2011.head(3)"
   ]
  },
  {
   "cell_type": "code",
   "execution_count": 73,
   "metadata": {},
   "outputs": [
    {
     "data": {
      "text/html": [
       "<div>\n",
       "<style scoped>\n",
       "    .dataframe tbody tr th:only-of-type {\n",
       "        vertical-align: middle;\n",
       "    }\n",
       "\n",
       "    .dataframe tbody tr th {\n",
       "        vertical-align: top;\n",
       "    }\n",
       "\n",
       "    .dataframe thead th {\n",
       "        text-align: right;\n",
       "    }\n",
       "</style>\n",
       "<table border=\"1\" class=\"dataframe\">\n",
       "  <thead>\n",
       "    <tr style=\"text-align: right;\">\n",
       "      <th></th>\n",
       "      <th>CountryCode</th>\n",
       "      <th>Value</th>\n",
       "    </tr>\n",
       "  </thead>\n",
       "  <tbody>\n",
       "    <tr>\n",
       "      <th>5069955</th>\n",
       "      <td>BDI</td>\n",
       "      <td>0.021350</td>\n",
       "    </tr>\n",
       "    <tr>\n",
       "      <th>5075305</th>\n",
       "      <td>TCD</td>\n",
       "      <td>0.043830</td>\n",
       "    </tr>\n",
       "    <tr>\n",
       "      <th>5079628</th>\n",
       "      <td>ZAR</td>\n",
       "      <td>0.050303</td>\n",
       "    </tr>\n",
       "  </tbody>\n",
       "</table>\n",
       "</div>"
      ],
      "text/plain": [
       "        CountryCode     Value\n",
       "5069955         BDI  0.021350\n",
       "5075305         TCD  0.043830\n",
       "5079628         ZAR  0.050303"
      ]
     },
     "execution_count": 73,
     "metadata": {},
     "output_type": "execute_result"
    }
   ],
   "source": [
    "m1 = co2_2011[['CountryCode','Value']].sort_values(by=['Value'])\n",
    "m1.head(3)"
   ]
  },
  {
   "cell_type": "code",
   "execution_count": 74,
   "metadata": {},
   "outputs": [
    {
     "data": {
      "text/html": [
       "<div>\n",
       "<style scoped>\n",
       "    .dataframe tbody tr th:only-of-type {\n",
       "        vertical-align: middle;\n",
       "    }\n",
       "\n",
       "    .dataframe tbody tr th {\n",
       "        vertical-align: top;\n",
       "    }\n",
       "\n",
       "    .dataframe thead th {\n",
       "        text-align: right;\n",
       "    }\n",
       "</style>\n",
       "<table border=\"1\" class=\"dataframe\">\n",
       "  <thead>\n",
       "    <tr style=\"text-align: right;\">\n",
       "      <th></th>\n",
       "      <th>index</th>\n",
       "      <th>CountryName</th>\n",
       "      <th>CountryCode</th>\n",
       "      <th>IndicatorName</th>\n",
       "      <th>IndicatorCode</th>\n",
       "      <th>Year</th>\n",
       "      <th>Value</th>\n",
       "    </tr>\n",
       "  </thead>\n",
       "  <tbody>\n",
       "    <tr>\n",
       "      <th>221</th>\n",
       "      <td>5194727</td>\n",
       "      <td>United States</td>\n",
       "      <td>USA</td>\n",
       "      <td>CO2 emissions (metric tons per capita)</td>\n",
       "      <td>EN.ATM.CO2E.PC</td>\n",
       "      <td>2011</td>\n",
       "      <td>17.020216</td>\n",
       "    </tr>\n",
       "  </tbody>\n",
       "</table>\n",
       "</div>"
      ],
      "text/plain": [
       "       index    CountryName CountryCode  \\\n",
       "221  5194727  United States         USA   \n",
       "\n",
       "                              IndicatorName   IndicatorCode  Year      Value  \n",
       "221  CO2 emissions (metric tons per capita)  EN.ATM.CO2E.PC  2011  17.020216  "
      ]
     },
     "execution_count": 74,
     "metadata": {},
     "output_type": "execute_result"
    }
   ],
   "source": [
    "#help(pd.DataFrame.sort_values)\n",
    "mm = co2_2011.sort_values(by=['Value'])\n",
    "mm = mm.reset_index()\n",
    "usa_loc = mm.loc[mm.CountryCode=='USA']\n",
    "#usa_loc = mm.loc[mm.CountryCode=='USA'].reset_index().index\n",
    "usa_loc"
   ]
  },
  {
   "cell_type": "code",
   "execution_count": 75,
   "metadata": {},
   "outputs": [
    {
     "data": {
      "text/plain": [
       "232"
      ]
     },
     "execution_count": 75,
     "metadata": {},
     "output_type": "execute_result"
    }
   ],
   "source": [
    "len(mm)"
   ]
  },
  {
   "cell_type": "code",
   "execution_count": 76,
   "metadata": {},
   "outputs": [
    {
     "data": {
      "text/plain": [
       "5656458"
      ]
     },
     "execution_count": 76,
     "metadata": {},
     "output_type": "execute_result"
    }
   ],
   "source": [
    "len(data)"
   ]
  },
  {
   "cell_type": "code",
   "execution_count": 77,
   "metadata": {},
   "outputs": [
    {
     "name": "stderr",
     "output_type": "stream",
     "text": [
      "/Users/r38411/anaconda2/envs/py35/lib/python3.5/site-packages/matplotlib/axes/_axes.py:6521: MatplotlibDeprecationWarning: \n",
      "The 'normed' kwarg was deprecated in Matplotlib 2.1 and will be removed in 3.1. Use 'density' instead.\n",
      "  alternative=\"'density'\", removal=\"3.1\")\n"
     ]
    },
    {
     "data": {
      "text/plain": [
       "(array([136.,  57.,  22.,   7.,   5.,   2.,   1.,   0.,   1.,   1.]),\n",
       " array([2.13499261e-02, 4.42110757e+00, 8.82086521e+00, 1.32206229e+01,\n",
       "        1.76203805e+01, 2.20201381e+01, 2.64198958e+01, 3.08196534e+01,\n",
       "        3.52194111e+01, 3.96191687e+01, 4.40189264e+01]),\n",
       " <a list of 10 Patch objects>)"
      ]
     },
     "execution_count": 77,
     "metadata": {},
     "output_type": "execute_result"
    },
    {
     "data": {
      "image/png": "[encoded data removed]",
      "text/plain": [
       "<Figure size 432x288 with 1 Axes>"
      ]
     },
     "metadata": {},
     "output_type": "display_data"
    }
   ],
   "source": [
    "fig, ax = plt.subplots()\n",
    "ax.annotate(\"USA\",\n",
    "           xy=(18,5), xycoords='data',\n",
    "           xytext=(18,30), textcoords='data',\n",
    "           arrowprops=dict(arrowstyle=\"->\",\n",
    "                          connectionstyle=\"arc3\"),\n",
    "           )\n",
    "plt.hist(co2_2011['Value'],10,normed=False, facecolor='green')"
   ]
  },
  {
   "cell_type": "code",
   "execution_count": 78,
   "metadata": {
    "collapsed": true
   },
   "outputs": [],
   "source": [
    "#help(plt.subplots)"
   ]
  },
  {
   "cell_type": "code",
   "execution_count": 79,
   "metadata": {},
   "outputs": [
    {
     "name": "stdout",
     "output_type": "stream",
     "text": [
      "Help on method annotate in module matplotlib.axes._axes:\n",
      "\n",
      "annotate(s, xy, *args, **kwargs) method of matplotlib.axes._subplots.AxesSubplot instance\n",
      "    Annotate the point *xy* with text *s*.\n",
      "    \n",
      "    In the simplest form, the text is placed at *xy*.\n",
      "    \n",
      "    Optionally, the text can be displayed in another position *xytext*.\n",
      "    An arrow pointing from the text to the annotated point *xy* can then\n",
      "    be added by defining *arrowprops*.\n",
      "    \n",
      "    Parameters\n",
      "    ----------\n",
      "    s : str\n",
      "        The text of the annotation.\n",
      "    \n",
      "    xy : (float, float)\n",
      "        The point *(x,y)* to annotate.\n",
      "    \n",
      "    xytext : (float, float), optional\n",
      "        The position *(x,y)* to place the text at.\n",
      "        If *None*, defaults to *xy*.\n",
      "    \n",
      "    xycoords : str, `.Artist`, `.Transform`, callable or tuple, optional\n",
      "    \n",
      "        The coordinate system that *xy* is given in. The following types\n",
      "        of values are supported:\n",
      "    \n",
      "        - One of the following strings:\n",
      "    \n",
      "          =================   =============================================\n",
      "          Value               Description\n",
      "          =================   =============================================\n",
      "          'figure points'     Points from the lower left of the figure\n",
      "          'figure pixels'     Pixels from the lower left of the figure\n",
      "          'figure fraction'   Fraction of figure from lower left\n",
      "          'axes points'       Points from lower left corner of axes\n",
      "          'axes pixels'       Pixels from lower left corner of axes\n",
      "          'axes fraction'     Fraction of axes from lower left\n",
      "          'data'              Use the coordinate system of the object being\n",
      "                              annotated (default)\n",
      "          'polar'             *(theta,r)* if not native 'data' coordinates\n",
      "          =================   =============================================\n",
      "    \n",
      "        - An `.Artist`: *xy* is interpreted as a fraction of the artists\n",
      "          `~matplotlib.transforms.Bbox`. E.g. *(0, 0)* would be the lower\n",
      "          left corner of the bounding box and *(0.5, 1)* would be the\n",
      "          center top of the bounding box.\n",
      "    \n",
      "        - A `.Transform` to transform *xy* to screen coordinates.\n",
      "    \n",
      "        - A function with one of the following signatures::\n",
      "    \n",
      "            def transform(renderer) -> Bbox\n",
      "            def transform(renderer) -> Transform\n",
      "    \n",
      "          where *renderer* is a `.RendererBase` subclass.\n",
      "    \n",
      "          The result of the function is interpreted like the `.Artist` and\n",
      "          `.Transform` cases above.\n",
      "    \n",
      "        - A tuple *(xcoords, ycoords)* specifying separate coordinate\n",
      "          systems for *x* and *y*. *xcoords* and *ycoords* must each be\n",
      "          of one of the above described types.\n",
      "    \n",
      "        See :ref:`plotting-guide-annotation` for more details.\n",
      "    \n",
      "        Defaults to 'data'.\n",
      "    \n",
      "    textcoords : str, `.Artist`, `.Transform`, callable or tuple, optional\n",
      "        The coordinate system that *xytext* is given in.\n",
      "    \n",
      "        All *xycoords* values are valid as well as the following\n",
      "        strings:\n",
      "    \n",
      "        =================   =========================================\n",
      "        Value               Description\n",
      "        =================   =========================================\n",
      "        'offset points'     Offset (in points) from the *xy* value\n",
      "        'offset pixels'     Offset (in pixels) from the *xy* value\n",
      "        =================   =========================================\n",
      "    \n",
      "        Defaults to the value of *xycoords*, i.e. use the same coordinate\n",
      "        system for annotation point and text position.\n",
      "    \n",
      "    arrowprops : dict, optional\n",
      "        The properties used to draw a\n",
      "        `~matplotlib.patches.FancyArrowPatch` arrow between the\n",
      "        positions *xy* and *xytext*.\n",
      "    \n",
      "        If *arrowprops* does not contain the key 'arrowstyle' the\n",
      "        allowed keys are:\n",
      "    \n",
      "        ==========   ======================================================\n",
      "        Key          Description\n",
      "        ==========   ======================================================\n",
      "        width        The width of the arrow in points\n",
      "        headwidth    The width of the base of the arrow head in points\n",
      "        headlength   The length of the arrow head in points\n",
      "        shrink       Fraction of total length to shrink from both ends\n",
      "        ?            Any key to :class:`matplotlib.patches.FancyArrowPatch`\n",
      "        ==========   ======================================================\n",
      "    \n",
      "        If *arrowprops* contains the key 'arrowstyle' the\n",
      "        above keys are forbidden.  The allowed values of\n",
      "        ``'arrowstyle'`` are:\n",
      "    \n",
      "        ============   =============================================\n",
      "        Name           Attrs\n",
      "        ============   =============================================\n",
      "        ``'-'``        None\n",
      "        ``'->'``       head_length=0.4,head_width=0.2\n",
      "        ``'-['``       widthB=1.0,lengthB=0.2,angleB=None\n",
      "        ``'|-|'``      widthA=1.0,widthB=1.0\n",
      "        ``'-|>'``      head_length=0.4,head_width=0.2\n",
      "        ``'<-'``       head_length=0.4,head_width=0.2\n",
      "        ``'<->'``      head_length=0.4,head_width=0.2\n",
      "        ``'<|-'``      head_length=0.4,head_width=0.2\n",
      "        ``'<|-|>'``    head_length=0.4,head_width=0.2\n",
      "        ``'fancy'``    head_length=0.4,head_width=0.4,tail_width=0.4\n",
      "        ``'simple'``   head_length=0.5,head_width=0.5,tail_width=0.2\n",
      "        ``'wedge'``    tail_width=0.3,shrink_factor=0.5\n",
      "        ============   =============================================\n",
      "    \n",
      "        Valid keys for `~matplotlib.patches.FancyArrowPatch` are:\n",
      "    \n",
      "        ===============  ==================================================\n",
      "        Key              Description\n",
      "        ===============  ==================================================\n",
      "        arrowstyle       the arrow style\n",
      "        connectionstyle  the connection style\n",
      "        relpos           default is (0.5, 0.5)\n",
      "        patchA           default is bounding box of the text\n",
      "        patchB           default is None\n",
      "        shrinkA          default is 2 points\n",
      "        shrinkB          default is 2 points\n",
      "        mutation_scale   default is text size (in points)\n",
      "        mutation_aspect  default is 1.\n",
      "        ?                any key for :class:`matplotlib.patches.PathPatch`\n",
      "        ===============  ==================================================\n",
      "    \n",
      "        Defaults to None, i.e. no arrow is drawn.\n",
      "    \n",
      "    annotation_clip : bool or None, optional\n",
      "        Whether to draw the annotation when the annotation point *xy* is\n",
      "        outside the axes area.\n",
      "    \n",
      "        - If *True*, the annotation will only be drawn when *xy* is\n",
      "          within the axes.\n",
      "        - If *False*, the annotation will always be drawn.\n",
      "        - If *None*, the annotation will only be drawn when *xy* is\n",
      "          within the axes and *xycoords* is 'data'.\n",
      "    \n",
      "        Defaults to *None*.\n",
      "    \n",
      "    **kwargs\n",
      "        Additional kwargs are passed to `~matplotlib.text.Text`.\n",
      "    \n",
      "    Returns\n",
      "    -------\n",
      "    annotation : `.Annotation`\n",
      "    \n",
      "    See Also\n",
      "    --------\n",
      "    :ref:`plotting-guide-annotation`.\n",
      "\n"
     ]
    }
   ],
   "source": [
    "help(ax.annotate)"
   ]
  },
  {
   "cell_type": "markdown",
   "metadata": {},
   "source": [
    "## Basic 2"
   ]
  },
  {
   "cell_type": "code",
   "execution_count": 80,
   "metadata": {
    "collapsed": true
   },
   "outputs": [],
   "source": [
    "hist_indicator = 'GDP per capita \\(constant 2005'\n",
    "hist_country = 'USA'\n",
    "\n",
    "mask1 = data['IndicatorName'].str.contains(hist_indicator)\n",
    "mask2 = data['CountryCode'].str.contains(hist_country)\n",
    "\n",
    "gdp_stage = data[mask1 & mask2]"
   ]
  },
  {
   "cell_type": "code",
   "execution_count": 81,
   "metadata": {},
   "outputs": [
    {
     "data": {
      "text/html": [
       "<div>\n",
       "<style scoped>\n",
       "    .dataframe tbody tr th:only-of-type {\n",
       "        vertical-align: middle;\n",
       "    }\n",
       "\n",
       "    .dataframe tbody tr th {\n",
       "        vertical-align: top;\n",
       "    }\n",
       "\n",
       "    .dataframe thead th {\n",
       "        text-align: right;\n",
       "    }\n",
       "</style>\n",
       "<table border=\"1\" class=\"dataframe\">\n",
       "  <thead>\n",
       "    <tr style=\"text-align: right;\">\n",
       "      <th></th>\n",
       "      <th>CountryName</th>\n",
       "      <th>CountryCode</th>\n",
       "      <th>IndicatorName</th>\n",
       "      <th>IndicatorCode</th>\n",
       "      <th>Year</th>\n",
       "      <th>Value</th>\n",
       "    </tr>\n",
       "  </thead>\n",
       "  <tbody>\n",
       "    <tr>\n",
       "      <th>22282</th>\n",
       "      <td>United States</td>\n",
       "      <td>USA</td>\n",
       "      <td>GDP per capita (constant 2005 US$)</td>\n",
       "      <td>NY.GDP.PCAP.KD</td>\n",
       "      <td>1960</td>\n",
       "      <td>15482.707760</td>\n",
       "    </tr>\n",
       "    <tr>\n",
       "      <th>48759</th>\n",
       "      <td>United States</td>\n",
       "      <td>USA</td>\n",
       "      <td>GDP per capita (constant 2005 US$)</td>\n",
       "      <td>NY.GDP.PCAP.KD</td>\n",
       "      <td>1961</td>\n",
       "      <td>15578.409657</td>\n",
       "    </tr>\n",
       "  </tbody>\n",
       "</table>\n",
       "</div>"
      ],
      "text/plain": [
       "         CountryName CountryCode                       IndicatorName  \\\n",
       "22282  United States         USA  GDP per capita (constant 2005 US$)   \n",
       "48759  United States         USA  GDP per capita (constant 2005 US$)   \n",
       "\n",
       "        IndicatorCode  Year         Value  \n",
       "22282  NY.GDP.PCAP.KD  1960  15482.707760  \n",
       "48759  NY.GDP.PCAP.KD  1961  15578.409657  "
      ]
     },
     "execution_count": 81,
     "metadata": {},
     "output_type": "execute_result"
    }
   ],
   "source": [
    "gdp_stage.head(2)"
   ]
  },
  {
   "cell_type": "code",
   "execution_count": 82,
   "metadata": {},
   "outputs": [
    {
     "data": {
      "text/plain": [
       "[<matplotlib.lines.Line2D at 0x115459e80>]"
      ]
     },
     "execution_count": 82,
     "metadata": {},
     "output_type": "execute_result"
    },
    {
     "data": {
      "image/png": "[encoded data removed]",
      "text/plain": [
       "<Figure size 432x288 with 1 Axes>"
      ]
     },
     "metadata": {},
     "output_type": "display_data"
    }
   ],
   "source": [
    "plt.plot(gdp_stage['Year'].values, gdp_stage['Value'].values)"
   ]
  },
  {
   "cell_type": "code",
   "execution_count": 83,
   "metadata": {},
   "outputs": [
    {
     "name": "stdout",
     "output_type": "stream",
     "text": [
      "GDP min year =  1960 max:  2014\n"
     ]
    }
   ],
   "source": [
    "print(\"GDP min year = \", gdp_stage['Year'].min(), 'max: ', \n",
    "      gdp_stage['Year'].max())"
   ]
  },
  {
   "cell_type": "code",
   "execution_count": 84,
   "metadata": {},
   "outputs": [
    {
     "name": "stdout",
     "output_type": "stream",
     "text": [
      "52\n"
     ]
    }
   ],
   "source": [
    "gdp_stage_trunc = gdp_stage[gdp_stage.Year < 2012]\n",
    "print(len(gdp_stage_trunc))"
   ]
  },
  {
   "cell_type": "code",
   "execution_count": 85,
   "metadata": {},
   "outputs": [
    {
     "name": "stdout",
     "output_type": "stream",
     "text": [
      "Help on function scatter in module matplotlib.pyplot:\n",
      "\n",
      "scatter(x, y, s=None, c=None, marker=None, cmap=None, norm=None, vmin=None, vmax=None, alpha=None, linewidths=None, verts=None, edgecolors=None, *, data=None, **kwargs)\n",
      "    A scatter plot of *y* vs *x* with varying marker size and/or color.\n",
      "    \n",
      "    Parameters\n",
      "    ----------\n",
      "    x, y : array_like, shape (n, )\n",
      "        The data positions.\n",
      "    \n",
      "    s : scalar or array_like, shape (n, ), optional\n",
      "        The marker size in points**2.\n",
      "        Default is ``rcParams['lines.markersize'] ** 2``.\n",
      "    \n",
      "    c : color, sequence, or sequence of color, optional\n",
      "        The marker color. Possible values:\n",
      "    \n",
      "        - A single color format string.\n",
      "        - A sequence of color specifications of length n.\n",
      "        - A sequence of n numbers to be mapped to colors using *cmap* and\n",
      "          *norm*.\n",
      "        - A 2-D array in which the rows are RGB or RGBA.\n",
      "    \n",
      "        Note that *c* should not be a single numeric RGB or RGBA sequence\n",
      "        because that is indistinguishable from an array of values to be\n",
      "        colormapped. If you want to specify the same RGB or RGBA value for\n",
      "        all points, use a 2-D array with a single row.  Otherwise, value-\n",
      "        matching will have precedence in case of a size matching with *x*\n",
      "        and *y*.\n",
      "    \n",
      "        Defaults to ``None``. In that case the marker color is determined\n",
      "        by the value of ``color``, ``facecolor`` or ``facecolors``. In case\n",
      "        those are not specified or ``None``, the marker color is determined\n",
      "        by the next color of the ``Axes``' current \"shape and fill\" color\n",
      "        cycle. This cycle defaults to :rc:`axes.prop_cycle`.\n",
      "    \n",
      "    marker : `~matplotlib.markers.MarkerStyle`, optional\n",
      "        The marker style. *marker* can be either an instance of the class\n",
      "        or the text shorthand for a particular marker.\n",
      "        Defaults to ``None``, in which case it takes the value of\n",
      "        :rc:`scatter.marker` = 'o'.\n",
      "        See `~matplotlib.markers` for more information about marker styles.\n",
      "    \n",
      "    cmap : `~matplotlib.colors.Colormap`, optional, default: None\n",
      "        A `.Colormap` instance or registered colormap name. *cmap* is only\n",
      "        used if *c* is an array of floats. If ``None``, defaults to rc\n",
      "        ``image.cmap``.\n",
      "    \n",
      "    norm : `~matplotlib.colors.Normalize`, optional, default: None\n",
      "        A `.Normalize` instance is used to scale luminance data to 0, 1.\n",
      "        *norm* is only used if *c* is an array of floats. If *None*, use\n",
      "        the default `.colors.Normalize`.\n",
      "    \n",
      "    vmin, vmax : scalar, optional, default: None\n",
      "        *vmin* and *vmax* are used in conjunction with *norm* to normalize\n",
      "        luminance data. If None, the respective min and max of the color\n",
      "        array is used. *vmin* and *vmax* are ignored if you pass a *norm*\n",
      "        instance.\n",
      "    \n",
      "    alpha : scalar, optional, default: None\n",
      "        The alpha blending value, between 0 (transparent) and 1 (opaque).\n",
      "    \n",
      "    linewidths : scalar or array_like, optional, default: None\n",
      "        The linewidth of the marker edges. Note: The default *edgecolors*\n",
      "        is 'face'. You may want to change this as well.\n",
      "        If *None*, defaults to rcParams ``lines.linewidth``.\n",
      "    \n",
      "    edgecolors : color or sequence of color, optional, default: 'face'\n",
      "        The edge color of the marker. Possible values:\n",
      "    \n",
      "        - 'face': The edge color will always be the same as the face color.\n",
      "        - 'none': No patch boundary will be drawn.\n",
      "        - A matplotib color.\n",
      "    \n",
      "        For non-filled markers, the *edgecolors* kwarg is ignored and\n",
      "        forced to 'face' internally.\n",
      "    \n",
      "    Returns\n",
      "    -------\n",
      "    paths : `~matplotlib.collections.PathCollection`\n",
      "    \n",
      "    Other Parameters\n",
      "    ----------------\n",
      "    **kwargs : `~matplotlib.collections.Collection` properties\n",
      "    \n",
      "    See Also\n",
      "    --------\n",
      "    plot : To plot scatter plots when markers are identical in size and\n",
      "        color.\n",
      "    \n",
      "    Notes\n",
      "    -----\n",
      "    \n",
      "    * The `.plot` function will be faster for scatterplots where markers\n",
      "      don't vary in size or color.\n",
      "    \n",
      "    * Any or all of *x*, *y*, *s*, and *c* may be masked arrays, in which\n",
      "      case all masks will be combined and only unmasked points will be\n",
      "      plotted.\n",
      "    \n",
      "    * Fundamentally, scatter works with 1-D arrays; *x*, *y*, *s*, and *c*\n",
      "      may be input as 2-D arrays, but within scatter they will be\n",
      "      flattened. The exception is *c*, which will be flattened only if its\n",
      "      size matches the size of *x* and *y*.\n",
      "    \n",
      "    .. note::\n",
      "        In addition to the above described arguments, this function can take a\n",
      "        **data** keyword argument. If such a **data** argument is given, the\n",
      "        following arguments are replaced by **data[<arg>]**:\n",
      "    \n",
      "        * All arguments with the following names: 'c', 'color', 'edgecolors', 'facecolor', 'facecolors', 'linewidths', 's', 'x', 'y'.\n",
      "    \n",
      "        Objects passed as **data** must support item access (``data[<arg>]``) and\n",
      "        membership test (``<arg> in data``).\n",
      "\n"
     ]
    }
   ],
   "source": [
    "help(plt.scatter)"
   ]
  },
  {
   "cell_type": "code",
   "execution_count": 86,
   "metadata": {},
   "outputs": [
    {
     "data": {
      "text/plain": [
       "<matplotlib.collections.PathCollection at 0x115498400>"
      ]
     },
     "execution_count": 86,
     "metadata": {},
     "output_type": "execute_result"
    },
    {
     "data": {
      "image/png": "[encoded data removed]",
      "text/plain": [
       "<Figure size 432x288 with 1 Axes>"
      ]
     },
     "metadata": {},
     "output_type": "display_data"
    }
   ],
   "source": [
    "plt.scatter(gdp_stage_trunc['Value'].values, stage['Value'].values)"
   ]
  },
  {
   "cell_type": "code",
   "execution_count": 87,
   "metadata": {},
   "outputs": [
    {
     "data": {
      "text/plain": [
       "array([[1.        , 0.07676005],\n",
       "       [0.07676005, 1.        ]])"
      ]
     },
     "execution_count": 87,
     "metadata": {},
     "output_type": "execute_result"
    }
   ],
   "source": [
    "np.corrcoef(gdp_stage_trunc['Value'], stage['Value'])"
   ]
  },
  {
   "cell_type": "code",
   "execution_count": 88,
   "metadata": {},
   "outputs": [
    {
     "data": {
      "text/html": [
       "<div>\n",
       "<style scoped>\n",
       "    .dataframe tbody tr th:only-of-type {\n",
       "        vertical-align: middle;\n",
       "    }\n",
       "\n",
       "    .dataframe tbody tr th {\n",
       "        vertical-align: top;\n",
       "    }\n",
       "\n",
       "    .dataframe thead th {\n",
       "        text-align: right;\n",
       "    }\n",
       "</style>\n",
       "<table border=\"1\" class=\"dataframe\">\n",
       "  <thead>\n",
       "    <tr style=\"text-align: right;\">\n",
       "      <th></th>\n",
       "      <th>CountryName</th>\n",
       "      <th>CountryCode</th>\n",
       "      <th>IndicatorName</th>\n",
       "      <th>IndicatorCode</th>\n",
       "      <th>Year</th>\n",
       "      <th>Value</th>\n",
       "    </tr>\n",
       "  </thead>\n",
       "  <tbody>\n",
       "    <tr>\n",
       "      <th>0</th>\n",
       "      <td>Arab World</td>\n",
       "      <td>ARB</td>\n",
       "      <td>Adolescent fertility rate (births per 1,000 wo...</td>\n",
       "      <td>SP.ADO.TFRT</td>\n",
       "      <td>1960</td>\n",
       "      <td>133.560907</td>\n",
       "    </tr>\n",
       "    <tr>\n",
       "      <th>1</th>\n",
       "      <td>Arab World</td>\n",
       "      <td>ARB</td>\n",
       "      <td>Age dependency ratio (% of working-age populat...</td>\n",
       "      <td>SP.POP.DPND</td>\n",
       "      <td>1960</td>\n",
       "      <td>87.797601</td>\n",
       "    </tr>\n",
       "  </tbody>\n",
       "</table>\n",
       "</div>"
      ],
      "text/plain": [
       "  CountryName CountryCode                                      IndicatorName  \\\n",
       "0  Arab World         ARB  Adolescent fertility rate (births per 1,000 wo...   \n",
       "1  Arab World         ARB  Age dependency ratio (% of working-age populat...   \n",
       "\n",
       "  IndicatorCode  Year       Value  \n",
       "0   SP.ADO.TFRT  1960  133.560907  \n",
       "1   SP.POP.DPND  1960   87.797601  "
      ]
     },
     "execution_count": 88,
     "metadata": {},
     "output_type": "execute_result"
    }
   ],
   "source": [
    "data.head(2)"
   ]
  },
  {
   "cell_type": "code",
   "execution_count": 89,
   "metadata": {},
   "outputs": [
    {
     "data": {
      "text/plain": [
       "array(['GDP per capita (current US$)',\n",
       "       'GDP per capita (constant 2005 US$)',\n",
       "       'GDP per capita (current LCU)', 'GDP per capita (constant LCU)',\n",
       "       'GDP per capita growth (annual %)',\n",
       "       'Government expenditure per secondary student as % of GDP per capita (%)',\n",
       "       'Government expenditure per primary student as % of GDP per capita (%)',\n",
       "       'Government expenditure per tertiary student as % of GDP per capita (%)',\n",
       "       'GDP per capita, PPP (constant 2011 international $)',\n",
       "       'GDP per capita, PPP (current international $)'], dtype=object)"
      ]
     },
     "execution_count": 89,
     "metadata": {},
     "output_type": "execute_result"
    }
   ],
   "source": [
    "n1 =data[data.IndicatorName.str.contains(\"GDP per capita\")].IndicatorName.unique()\n",
    "n1"
   ]
  },
  {
   "cell_type": "code",
   "execution_count": 90,
   "metadata": {},
   "outputs": [
    {
     "data": {
      "text/plain": [
       "10"
      ]
     },
     "execution_count": 90,
     "metadata": {},
     "output_type": "execute_result"
    }
   ],
   "source": [
    "len(n1)"
   ]
  },
  {
   "cell_type": "markdown",
   "metadata": {},
   "source": [
    "## Folium"
   ]
  },
  {
   "cell_type": "code",
   "execution_count": 91,
   "metadata": {
    "collapsed": true
   },
   "outputs": [],
   "source": [
    "import folium"
   ]
  },
  {
   "cell_type": "code",
   "execution_count": 92,
   "metadata": {
    "collapsed": true
   },
   "outputs": [],
   "source": [
    "country_geo = 'Week5-Visualization/geo/world-countries.json'"
   ]
  },
  {
   "cell_type": "code",
   "execution_count": 93,
   "metadata": {
    "collapsed": true
   },
   "outputs": [],
   "source": [
    "data = pd.read_csv('./Week5-Visualization/world-development-indicators/Indicators.csv')"
   ]
  },
  {
   "cell_type": "code",
   "execution_count": 94,
   "metadata": {},
   "outputs": [
    {
     "data": {
      "text/plain": [
       "(5656458, 6)"
      ]
     },
     "execution_count": 94,
     "metadata": {},
     "output_type": "execute_result"
    }
   ],
   "source": [
    "data.shape"
   ]
  },
  {
   "cell_type": "code",
   "execution_count": 95,
   "metadata": {},
   "outputs": [
    {
     "data": {
      "text/html": [
       "<div>\n",
       "<style scoped>\n",
       "    .dataframe tbody tr th:only-of-type {\n",
       "        vertical-align: middle;\n",
       "    }\n",
       "\n",
       "    .dataframe tbody tr th {\n",
       "        vertical-align: top;\n",
       "    }\n",
       "\n",
       "    .dataframe thead th {\n",
       "        text-align: right;\n",
       "    }\n",
       "</style>\n",
       "<table border=\"1\" class=\"dataframe\">\n",
       "  <thead>\n",
       "    <tr style=\"text-align: right;\">\n",
       "      <th></th>\n",
       "      <th>CountryName</th>\n",
       "      <th>CountryCode</th>\n",
       "      <th>IndicatorName</th>\n",
       "      <th>IndicatorCode</th>\n",
       "      <th>Year</th>\n",
       "      <th>Value</th>\n",
       "    </tr>\n",
       "  </thead>\n",
       "  <tbody>\n",
       "    <tr>\n",
       "      <th>5026275</th>\n",
       "      <td>Arab World</td>\n",
       "      <td>ARB</td>\n",
       "      <td>CO2 emissions (metric tons per capita)</td>\n",
       "      <td>EN.ATM.CO2E.PC</td>\n",
       "      <td>2011</td>\n",
       "      <td>4.724500</td>\n",
       "    </tr>\n",
       "    <tr>\n",
       "      <th>5026788</th>\n",
       "      <td>Caribbean small states</td>\n",
       "      <td>CSS</td>\n",
       "      <td>CO2 emissions (metric tons per capita)</td>\n",
       "      <td>EN.ATM.CO2E.PC</td>\n",
       "      <td>2011</td>\n",
       "      <td>9.692960</td>\n",
       "    </tr>\n",
       "    <tr>\n",
       "      <th>5027295</th>\n",
       "      <td>Central Europe and the Baltics</td>\n",
       "      <td>CEB</td>\n",
       "      <td>CO2 emissions (metric tons per capita)</td>\n",
       "      <td>EN.ATM.CO2E.PC</td>\n",
       "      <td>2011</td>\n",
       "      <td>6.911131</td>\n",
       "    </tr>\n",
       "  </tbody>\n",
       "</table>\n",
       "</div>"
      ],
      "text/plain": [
       "                            CountryName CountryCode  \\\n",
       "5026275                      Arab World         ARB   \n",
       "5026788          Caribbean small states         CSS   \n",
       "5027295  Central Europe and the Baltics         CEB   \n",
       "\n",
       "                                  IndicatorName   IndicatorCode  Year  \\\n",
       "5026275  CO2 emissions (metric tons per capita)  EN.ATM.CO2E.PC  2011   \n",
       "5026788  CO2 emissions (metric tons per capita)  EN.ATM.CO2E.PC  2011   \n",
       "5027295  CO2 emissions (metric tons per capita)  EN.ATM.CO2E.PC  2011   \n",
       "\n",
       "            Value  \n",
       "5026275  4.724500  \n",
       "5026788  9.692960  \n",
       "5027295  6.911131  "
      ]
     },
     "execution_count": 95,
     "metadata": {},
     "output_type": "execute_result"
    }
   ],
   "source": [
    "hist_indicator = 'CO2 emissions \\(metric'\n",
    "hist_year = 2011\n",
    "\n",
    "mask1 = data['IndicatorName'].str.contains(hist_indicator)\n",
    "mask2 = data['Year'].isin([hist_year])\n",
    "\n",
    "stage = data[mask1 & mask2]\n",
    "stage.head(3)"
   ]
  },
  {
   "cell_type": "code",
   "execution_count": 96,
   "metadata": {},
   "outputs": [
    {
     "data": {
      "text/html": [
       "<div>\n",
       "<style scoped>\n",
       "    .dataframe tbody tr th:only-of-type {\n",
       "        vertical-align: middle;\n",
       "    }\n",
       "\n",
       "    .dataframe tbody tr th {\n",
       "        vertical-align: top;\n",
       "    }\n",
       "\n",
       "    .dataframe thead th {\n",
       "        text-align: right;\n",
       "    }\n",
       "</style>\n",
       "<table border=\"1\" class=\"dataframe\">\n",
       "  <thead>\n",
       "    <tr style=\"text-align: right;\">\n",
       "      <th></th>\n",
       "      <th>CountryCode</th>\n",
       "      <th>Value</th>\n",
       "    </tr>\n",
       "  </thead>\n",
       "  <tbody>\n",
       "    <tr>\n",
       "      <th>5026275</th>\n",
       "      <td>ARB</td>\n",
       "      <td>4.724500</td>\n",
       "    </tr>\n",
       "    <tr>\n",
       "      <th>5026788</th>\n",
       "      <td>CSS</td>\n",
       "      <td>9.692960</td>\n",
       "    </tr>\n",
       "    <tr>\n",
       "      <th>5027295</th>\n",
       "      <td>CEB</td>\n",
       "      <td>6.911131</td>\n",
       "    </tr>\n",
       "  </tbody>\n",
       "</table>\n",
       "</div>"
      ],
      "text/plain": [
       "        CountryCode     Value\n",
       "5026275         ARB  4.724500\n",
       "5026788         CSS  9.692960\n",
       "5027295         CEB  6.911131"
      ]
     },
     "execution_count": 96,
     "metadata": {},
     "output_type": "execute_result"
    }
   ],
   "source": [
    "plot_data = stage[['CountryCode','Value']]\n",
    "plot_data.head(3)"
   ]
  },
  {
   "cell_type": "code",
   "execution_count": 97,
   "metadata": {},
   "outputs": [
    {
     "data": {
      "text/plain": [
       "'CO2 emissions (metric tons per capita)'"
      ]
     },
     "execution_count": 97,
     "metadata": {},
     "output_type": "execute_result"
    }
   ],
   "source": [
    "hist_indicator = stage.IndicatorName.iloc[0]\n",
    "hist_indicator"
   ]
  },
  {
   "cell_type": "code",
   "execution_count": 98,
   "metadata": {
    "collapsed": true
   },
   "outputs": [],
   "source": [
    "map = folium.Map(location=[100,0], zoom_start=1.5)"
   ]
  },
  {
   "cell_type": "code",
   "execution_count": 99,
   "metadata": {},
   "outputs": [
    {
     "name": "stderr",
     "output_type": "stream",
     "text": [
      "/Users/r38411/anaconda2/envs/py35/lib/python3.5/site-packages/folium/folium.py:426: FutureWarning: The choropleth  method has been deprecated. Instead use the new Choropleth class, which has the same arguments. See the example notebook 'GeoJSON_and_choropleth' for how to do this.\n",
      "  FutureWarning\n"
     ]
    }
   ],
   "source": [
    "map.choropleth(geo_data=country_geo, data=plot_data,\n",
    "              columns=['CountryCode','Value'],\n",
    "              key_on = 'feature.id',\n",
    "              fill_color='YlGnBu', fill_capacity=0.7, line_oapacity=0.2,\n",
    "              legend_name=hist_indicator)"
   ]
  },
  {
   "cell_type": "code",
   "execution_count": 100,
   "metadata": {
    "collapsed": true
   },
   "outputs": [],
   "source": [
    "map.save('plot_data.html')"
   ]
  },
  {
   "cell_type": "code",
   "execution_count": 101,
   "metadata": {},
   "outputs": [
    {
     "data": {
      "text/html": [
       "<iframe src=plot_data.html width=900 height=700></iframe>"
      ],
      "text/plain": [
       "<IPython.core.display.HTML object>"
      ]
     },
     "execution_count": 101,
     "metadata": {},
     "output_type": "execute_result"
    }
   ],
   "source": [
    "from IPython.display import HTML\n",
    "HTML('<iframe src=plot_data.html width=900 height=700></iframe>')"
   ]
  },
  {
   "cell_type": "code",
   "execution_count": 102,
   "metadata": {},
   "outputs": [
    {
     "data": {
      "text/html": [
       "<div>\n",
       "<style scoped>\n",
       "    .dataframe tbody tr th:only-of-type {\n",
       "        vertical-align: middle;\n",
       "    }\n",
       "\n",
       "    .dataframe tbody tr th {\n",
       "        vertical-align: top;\n",
       "    }\n",
       "\n",
       "    .dataframe thead th {\n",
       "        text-align: right;\n",
       "    }\n",
       "</style>\n",
       "<table border=\"1\" class=\"dataframe\">\n",
       "  <thead>\n",
       "    <tr style=\"text-align: right;\">\n",
       "      <th></th>\n",
       "      <th>CountryName</th>\n",
       "      <th>CountryCode</th>\n",
       "      <th>IndicatorName</th>\n",
       "      <th>IndicatorCode</th>\n",
       "      <th>Year</th>\n",
       "      <th>Value</th>\n",
       "    </tr>\n",
       "  </thead>\n",
       "  <tbody>\n",
       "    <tr>\n",
       "      <th>5534379</th>\n",
       "      <td>Arab World</td>\n",
       "      <td>ARB</td>\n",
       "      <td>GDP per capita (current US$)</td>\n",
       "      <td>NY.GDP.PCAP.CD</td>\n",
       "      <td>2014</td>\n",
       "      <td>7386.428444</td>\n",
       "    </tr>\n",
       "    <tr>\n",
       "      <th>5534630</th>\n",
       "      <td>Caribbean small states</td>\n",
       "      <td>CSS</td>\n",
       "      <td>GDP per capita (current US$)</td>\n",
       "      <td>NY.GDP.PCAP.CD</td>\n",
       "      <td>2014</td>\n",
       "      <td>10164.320958</td>\n",
       "    </tr>\n",
       "    <tr>\n",
       "      <th>5534889</th>\n",
       "      <td>Central Europe and the Baltics</td>\n",
       "      <td>CEB</td>\n",
       "      <td>GDP per capita (current US$)</td>\n",
       "      <td>NY.GDP.PCAP.CD</td>\n",
       "      <td>2014</td>\n",
       "      <td>14086.521810</td>\n",
       "    </tr>\n",
       "  </tbody>\n",
       "</table>\n",
       "</div>"
      ],
      "text/plain": [
       "                            CountryName CountryCode  \\\n",
       "5534379                      Arab World         ARB   \n",
       "5534630          Caribbean small states         CSS   \n",
       "5534889  Central Europe and the Baltics         CEB   \n",
       "\n",
       "                        IndicatorName   IndicatorCode  Year         Value  \n",
       "5534379  GDP per capita (current US$)  NY.GDP.PCAP.CD  2014   7386.428444  \n",
       "5534630  GDP per capita (current US$)  NY.GDP.PCAP.CD  2014  10164.320958  \n",
       "5534889  GDP per capita (current US$)  NY.GDP.PCAP.CD  2014  14086.521810  "
      ]
     },
     "execution_count": 102,
     "metadata": {},
     "output_type": "execute_result"
    }
   ],
   "source": [
    "hist_indicator = 'GDP per capita \\(current US'\n",
    "hist_year = 2014\n",
    "\n",
    "mask1 = data.IndicatorName.str.contains(hist_indicator)\n",
    "mask2 = data.Year.isin([hist_year])\n",
    "\n",
    "data1 = data[mask1 & mask2]\n",
    "data1.head(3)"
   ]
  },
  {
   "cell_type": "code",
   "execution_count": 103,
   "metadata": {},
   "outputs": [
    {
     "data": {
      "text/html": [
       "<div>\n",
       "<style scoped>\n",
       "    .dataframe tbody tr th:only-of-type {\n",
       "        vertical-align: middle;\n",
       "    }\n",
       "\n",
       "    .dataframe tbody tr th {\n",
       "        vertical-align: top;\n",
       "    }\n",
       "\n",
       "    .dataframe thead th {\n",
       "        text-align: right;\n",
       "    }\n",
       "</style>\n",
       "<table border=\"1\" class=\"dataframe\">\n",
       "  <thead>\n",
       "    <tr style=\"text-align: right;\">\n",
       "      <th></th>\n",
       "      <th>CountryCode</th>\n",
       "      <th>Value</th>\n",
       "    </tr>\n",
       "  </thead>\n",
       "  <tbody>\n",
       "    <tr>\n",
       "      <th>5534379</th>\n",
       "      <td>ARB</td>\n",
       "      <td>7386.428444</td>\n",
       "    </tr>\n",
       "    <tr>\n",
       "      <th>5534630</th>\n",
       "      <td>CSS</td>\n",
       "      <td>10164.320958</td>\n",
       "    </tr>\n",
       "    <tr>\n",
       "      <th>5534889</th>\n",
       "      <td>CEB</td>\n",
       "      <td>14086.521810</td>\n",
       "    </tr>\n",
       "  </tbody>\n",
       "</table>\n",
       "</div>"
      ],
      "text/plain": [
       "        CountryCode         Value\n",
       "5534379         ARB   7386.428444\n",
       "5534630         CSS  10164.320958\n",
       "5534889         CEB  14086.521810"
      ]
     },
     "execution_count": 103,
     "metadata": {},
     "output_type": "execute_result"
    }
   ],
   "source": [
    "#data[data.IndicatorName.str.contains('GDP per capita')].IndicatorName.unique()\n",
    "plot_data = data1[['CountryCode', 'Value']]\n",
    "plot_data.head(3)"
   ]
  },
  {
   "cell_type": "code",
   "execution_count": 104,
   "metadata": {
    "collapsed": true
   },
   "outputs": [],
   "source": [
    "map = folium.Map(location=[100,0], zoom_start=1.5)"
   ]
  },
  {
   "cell_type": "code",
   "execution_count": 105,
   "metadata": {},
   "outputs": [
    {
     "name": "stderr",
     "output_type": "stream",
     "text": [
      "/Users/r38411/anaconda2/envs/py35/lib/python3.5/site-packages/folium/folium.py:426: FutureWarning: The choropleth  method has been deprecated. Instead use the new Choropleth class, which has the same arguments. See the example notebook 'GeoJSON_and_choropleth' for how to do this.\n",
      "  FutureWarning\n"
     ]
    }
   ],
   "source": [
    "map.choropleth(geo_data=country_geo, data=plot_data,\n",
    "              columns=['CountryCode','Value'],\n",
    "              key_on = 'feature.id',\n",
    "              fill_color='YlGnBu', fill_capacity=0.7, line_oapacity=0.2,\n",
    "              legend_name=hist_indicator)"
   ]
  },
  {
   "cell_type": "code",
   "execution_count": 106,
   "metadata": {
    "collapsed": true
   },
   "outputs": [],
   "source": [
    "map.save('plot_data.html')"
   ]
  },
  {
   "cell_type": "code",
   "execution_count": 107,
   "metadata": {},
   "outputs": [
    {
     "data": {
      "text/html": [
       "<iframe src=plot_data.html width=900 height=700></iframe>"
      ],
      "text/plain": [
       "<IPython.core.display.HTML object>"
      ]
     },
     "execution_count": 107,
     "metadata": {},
     "output_type": "execute_result"
    }
   ],
   "source": [
    "from IPython.display import HTML\n",
    "HTML('<iframe src=plot_data.html width=900 height=700></iframe>')"
   ]
  },
  {
   "cell_type": "code",
   "execution_count": 108,
   "metadata": {},
   "outputs": [
    {
     "name": "stdout",
     "output_type": "stream",
     "text": [
      "116664.26248752301\n",
      "5597012\n"
     ]
    },
    {
     "data": {
      "text/plain": [
       "CountryName                        Luxembourg\n",
       "CountryCode                               LUX\n",
       "IndicatorName    GDP per capita (current US$)\n",
       "IndicatorCode                  NY.GDP.PCAP.CD\n",
       "Year                                     2014\n",
       "Value                                  116664\n",
       "Name: 5597012, dtype: object"
      ]
     },
     "execution_count": 108,
     "metadata": {},
     "output_type": "execute_result"
    }
   ],
   "source": [
    "print(plot_data.Value.max())\n",
    "print(plot_data.Value.idxmax())\n",
    "data.iloc[plot_data.Value.idxmax(),:]"
   ]
  },
  {
   "cell_type": "code",
   "execution_count": 109,
   "metadata": {},
   "outputs": [
    {
     "data": {
      "text/html": [
       "<div>\n",
       "<style scoped>\n",
       "    .dataframe tbody tr th:only-of-type {\n",
       "        vertical-align: middle;\n",
       "    }\n",
       "\n",
       "    .dataframe tbody tr th {\n",
       "        vertical-align: top;\n",
       "    }\n",
       "\n",
       "    .dataframe thead th {\n",
       "        text-align: right;\n",
       "    }\n",
       "</style>\n",
       "<table border=\"1\" class=\"dataframe\">\n",
       "  <thead>\n",
       "    <tr style=\"text-align: right;\">\n",
       "      <th></th>\n",
       "      <th>CountryCode</th>\n",
       "      <th>Value</th>\n",
       "    </tr>\n",
       "  </thead>\n",
       "  <tbody>\n",
       "    <tr>\n",
       "      <th>5599014</th>\n",
       "      <td>MWI</td>\n",
       "      <td>255.044570</td>\n",
       "    </tr>\n",
       "    <tr>\n",
       "      <th>5560069</th>\n",
       "      <td>BDI</td>\n",
       "      <td>286.002336</td>\n",
       "    </tr>\n",
       "    <tr>\n",
       "      <th>5562854</th>\n",
       "      <td>CAF</td>\n",
       "      <td>358.537836</td>\n",
       "    </tr>\n",
       "    <tr>\n",
       "      <th>5609956</th>\n",
       "      <td>NER</td>\n",
       "      <td>427.373240</td>\n",
       "    </tr>\n",
       "    <tr>\n",
       "      <th>5566215</th>\n",
       "      <td>ZAR</td>\n",
       "      <td>442.339539</td>\n",
       "    </tr>\n",
       "    <tr>\n",
       "      <th>5598449</th>\n",
       "      <td>MDG</td>\n",
       "      <td>449.400830</td>\n",
       "    </tr>\n",
       "    <tr>\n",
       "      <th>5595758</th>\n",
       "      <td>LBR</td>\n",
       "      <td>457.858587</td>\n",
       "    </tr>\n",
       "    <tr>\n",
       "      <th>5581375</th>\n",
       "      <td>GIN</td>\n",
       "      <td>539.615775</td>\n",
       "    </tr>\n",
       "    <tr>\n",
       "      <th>5623991</th>\n",
       "      <td>SOM</td>\n",
       "      <td>542.615884</td>\n",
       "    </tr>\n",
       "    <tr>\n",
       "      <th>5581902</th>\n",
       "      <td>GNB</td>\n",
       "      <td>567.822610</td>\n",
       "    </tr>\n",
       "    <tr>\n",
       "      <th>5574980</th>\n",
       "      <td>ETH</td>\n",
       "      <td>573.565960</td>\n",
       "    </tr>\n",
       "    <tr>\n",
       "      <th>5606465</th>\n",
       "      <td>MOZ</td>\n",
       "      <td>585.622683</td>\n",
       "    </tr>\n",
       "    <tr>\n",
       "      <th>5546500</th>\n",
       "      <td>AFG</td>\n",
       "      <td>633.569247</td>\n",
       "    </tr>\n",
       "    <tr>\n",
       "      <th>5632270</th>\n",
       "      <td>TGO</td>\n",
       "      <td>635.044268</td>\n",
       "    </tr>\n",
       "    <tr>\n",
       "      <th>5540729</th>\n",
       "      <td>LIC</td>\n",
       "      <td>640.806627</td>\n",
       "    </tr>\n",
       "    <tr>\n",
       "      <th>5618212</th>\n",
       "      <td>RWA</td>\n",
       "      <td>695.689259</td>\n",
       "    </tr>\n",
       "    <tr>\n",
       "      <th>5607858</th>\n",
       "      <td>NPL</td>\n",
       "      <td>701.680063</td>\n",
       "    </tr>\n",
       "    <tr>\n",
       "      <th>5600770</th>\n",
       "      <td>MLI</td>\n",
       "      <td>704.507440</td>\n",
       "    </tr>\n",
       "    <tr>\n",
       "      <th>5559491</th>\n",
       "      <td>BFA</td>\n",
       "      <td>713.063890</td>\n",
       "    </tr>\n",
       "    <tr>\n",
       "      <th>5635368</th>\n",
       "      <td>UGA</td>\n",
       "      <td>714.567345</td>\n",
       "    </tr>\n",
       "    <tr>\n",
       "      <th>5621774</th>\n",
       "      <td>SLE</td>\n",
       "      <td>765.959197</td>\n",
       "    </tr>\n",
       "    <tr>\n",
       "      <th>5565658</th>\n",
       "      <td>COM</td>\n",
       "      <td>810.075767</td>\n",
       "    </tr>\n",
       "    <tr>\n",
       "      <th>5582906</th>\n",
       "      <td>HTI</td>\n",
       "      <td>824.159773</td>\n",
       "    </tr>\n",
       "    <tr>\n",
       "      <th>5537896</th>\n",
       "      <td>HPC</td>\n",
       "      <td>899.161111</td>\n",
       "    </tr>\n",
       "    <tr>\n",
       "      <th>5554831</th>\n",
       "      <td>BEN</td>\n",
       "      <td>903.464924</td>\n",
       "    </tr>\n",
       "    <tr>\n",
       "      <th>5641278</th>\n",
       "      <td>ZWE</td>\n",
       "      <td>931.198187</td>\n",
       "    </tr>\n",
       "    <tr>\n",
       "      <th>5539894</th>\n",
       "      <td>LDC</td>\n",
       "      <td>952.893825</td>\n",
       "    </tr>\n",
       "    <tr>\n",
       "      <th>5630805</th>\n",
       "      <td>TZA</td>\n",
       "      <td>955.141311</td>\n",
       "    </tr>\n",
       "    <tr>\n",
       "      <th>5563404</th>\n",
       "      <td>TCD</td>\n",
       "      <td>1024.668452</td>\n",
       "    </tr>\n",
       "    <tr>\n",
       "      <th>5595274</th>\n",
       "      <td>LSO</td>\n",
       "      <td>1034.185288</td>\n",
       "    </tr>\n",
       "    <tr>\n",
       "      <th>...</th>\n",
       "      <td>...</td>\n",
       "      <td>...</td>\n",
       "    </tr>\n",
       "    <tr>\n",
       "      <th>5587829</th>\n",
       "      <td>ISR</td>\n",
       "      <td>37207.994497</td>\n",
       "    </tr>\n",
       "    <tr>\n",
       "      <th>5538169</th>\n",
       "      <td>HIC</td>\n",
       "      <td>37755.819170</td>\n",
       "    </tr>\n",
       "    <tr>\n",
       "      <th>5543210</th>\n",
       "      <td>OED</td>\n",
       "      <td>38388.237022</td>\n",
       "    </tr>\n",
       "    <tr>\n",
       "      <th>5536000</th>\n",
       "      <td>EMU</td>\n",
       "      <td>39589.278946</td>\n",
       "    </tr>\n",
       "    <tr>\n",
       "      <th>5583968</th>\n",
       "      <td>HKG</td>\n",
       "      <td>40169.543638</td>\n",
       "    </tr>\n",
       "    <tr>\n",
       "      <th>5558472</th>\n",
       "      <td>BRN</td>\n",
       "      <td>40979.641943</td>\n",
       "    </tr>\n",
       "    <tr>\n",
       "      <th>5576441</th>\n",
       "      <td>FRA</td>\n",
       "      <td>42732.566503</td>\n",
       "    </tr>\n",
       "    <tr>\n",
       "      <th>5592682</th>\n",
       "      <td>KWT</td>\n",
       "      <td>43593.702018</td>\n",
       "    </tr>\n",
       "    <tr>\n",
       "      <th>5538710</th>\n",
       "      <td>OEC</td>\n",
       "      <td>43654.251440</td>\n",
       "    </tr>\n",
       "    <tr>\n",
       "      <th>5636550</th>\n",
       "      <td>ARE</td>\n",
       "      <td>43962.713693</td>\n",
       "    </tr>\n",
       "    <tr>\n",
       "      <th>5636904</th>\n",
       "      <td>GBR</td>\n",
       "      <td>46331.977410</td>\n",
       "    </tr>\n",
       "    <tr>\n",
       "      <th>5553805</th>\n",
       "      <td>BEL</td>\n",
       "      <td>47352.942906</td>\n",
       "    </tr>\n",
       "    <tr>\n",
       "      <th>5578600</th>\n",
       "      <td>DEU</td>\n",
       "      <td>47821.917464</td>\n",
       "    </tr>\n",
       "    <tr>\n",
       "      <th>5576015</th>\n",
       "      <td>FIN</td>\n",
       "      <td>49823.701369</td>\n",
       "    </tr>\n",
       "    <tr>\n",
       "      <th>5562345</th>\n",
       "      <td>CAN</td>\n",
       "      <td>50235.385509</td>\n",
       "    </tr>\n",
       "    <tr>\n",
       "      <th>5550571</th>\n",
       "      <td>AUT</td>\n",
       "      <td>51190.808248</td>\n",
       "    </tr>\n",
       "    <tr>\n",
       "      <th>5584853</th>\n",
       "      <td>ISL</td>\n",
       "      <td>52004.485748</td>\n",
       "    </tr>\n",
       "    <tr>\n",
       "      <th>5608433</th>\n",
       "      <td>NLD</td>\n",
       "      <td>52172.171235</td>\n",
       "    </tr>\n",
       "    <tr>\n",
       "      <th>5542943</th>\n",
       "      <td>NAC</td>\n",
       "      <td>54195.100600</td>\n",
       "    </tr>\n",
       "    <tr>\n",
       "      <th>5587387</th>\n",
       "      <td>IRL</td>\n",
       "      <td>54374.352239</td>\n",
       "    </tr>\n",
       "    <tr>\n",
       "      <th>5637326</th>\n",
       "      <td>USA</td>\n",
       "      <td>54629.495168</td>\n",
       "    </tr>\n",
       "    <tr>\n",
       "      <th>5622220</th>\n",
       "      <td>SGP</td>\n",
       "      <td>56284.578405</td>\n",
       "    </tr>\n",
       "    <tr>\n",
       "      <th>5628914</th>\n",
       "      <td>SWE</td>\n",
       "      <td>58938.772748</td>\n",
       "    </tr>\n",
       "    <tr>\n",
       "      <th>5570049</th>\n",
       "      <td>DNK</td>\n",
       "      <td>60707.249365</td>\n",
       "    </tr>\n",
       "    <tr>\n",
       "      <th>5550131</th>\n",
       "      <td>AUS</td>\n",
       "      <td>61925.496062</td>\n",
       "    </tr>\n",
       "    <tr>\n",
       "      <th>5629386</th>\n",
       "      <td>CHE</td>\n",
       "      <td>85594.326601</td>\n",
       "    </tr>\n",
       "    <tr>\n",
       "      <th>5597423</th>\n",
       "      <td>MAC</td>\n",
       "      <td>96038.050724</td>\n",
       "    </tr>\n",
       "    <tr>\n",
       "      <th>5616619</th>\n",
       "      <td>QAT</td>\n",
       "      <td>96732.402545</td>\n",
       "    </tr>\n",
       "    <tr>\n",
       "      <th>5611102</th>\n",
       "      <td>NOR</td>\n",
       "      <td>97307.421592</td>\n",
       "    </tr>\n",
       "    <tr>\n",
       "      <th>5597012</th>\n",
       "      <td>LUX</td>\n",
       "      <td>116664.262488</td>\n",
       "    </tr>\n",
       "  </tbody>\n",
       "</table>\n",
       "<p>215 rows × 2 columns</p>\n",
       "</div>"
      ],
      "text/plain": [
       "        CountryCode          Value\n",
       "5599014         MWI     255.044570\n",
       "5560069         BDI     286.002336\n",
       "5562854         CAF     358.537836\n",
       "5609956         NER     427.373240\n",
       "5566215         ZAR     442.339539\n",
       "5598449         MDG     449.400830\n",
       "5595758         LBR     457.858587\n",
       "5581375         GIN     539.615775\n",
       "5623991         SOM     542.615884\n",
       "5581902         GNB     567.822610\n",
       "5574980         ETH     573.565960\n",
       "5606465         MOZ     585.622683\n",
       "5546500         AFG     633.569247\n",
       "5632270         TGO     635.044268\n",
       "5540729         LIC     640.806627\n",
       "5618212         RWA     695.689259\n",
       "5607858         NPL     701.680063\n",
       "5600770         MLI     704.507440\n",
       "5559491         BFA     713.063890\n",
       "5635368         UGA     714.567345\n",
       "5621774         SLE     765.959197\n",
       "5565658         COM     810.075767\n",
       "5582906         HTI     824.159773\n",
       "5537896         HPC     899.161111\n",
       "5554831         BEN     903.464924\n",
       "5641278         ZWE     931.198187\n",
       "5539894         LDC     952.893825\n",
       "5630805         TZA     955.141311\n",
       "5563404         TCD    1024.668452\n",
       "5595274         LSO    1034.185288\n",
       "...             ...            ...\n",
       "5587829         ISR   37207.994497\n",
       "5538169         HIC   37755.819170\n",
       "5543210         OED   38388.237022\n",
       "5536000         EMU   39589.278946\n",
       "5583968         HKG   40169.543638\n",
       "5558472         BRN   40979.641943\n",
       "5576441         FRA   42732.566503\n",
       "5592682         KWT   43593.702018\n",
       "5538710         OEC   43654.251440\n",
       "5636550         ARE   43962.713693\n",
       "5636904         GBR   46331.977410\n",
       "5553805         BEL   47352.942906\n",
       "5578600         DEU   47821.917464\n",
       "5576015         FIN   49823.701369\n",
       "5562345         CAN   50235.385509\n",
       "5550571         AUT   51190.808248\n",
       "5584853         ISL   52004.485748\n",
       "5608433         NLD   52172.171235\n",
       "5542943         NAC   54195.100600\n",
       "5587387         IRL   54374.352239\n",
       "5637326         USA   54629.495168\n",
       "5622220         SGP   56284.578405\n",
       "5628914         SWE   58938.772748\n",
       "5570049         DNK   60707.249365\n",
       "5550131         AUS   61925.496062\n",
       "5629386         CHE   85594.326601\n",
       "5597423         MAC   96038.050724\n",
       "5616619         QAT   96732.402545\n",
       "5611102         NOR   97307.421592\n",
       "5597012         LUX  116664.262488\n",
       "\n",
       "[215 rows x 2 columns]"
      ]
     },
     "execution_count": 109,
     "metadata": {},
     "output_type": "execute_result"
    }
   ],
   "source": [
    "plot_data.sort_values(by='Value')"
   ]
  },
  {
   "cell_type": "code",
   "execution_count": 111,
   "metadata": {},
   "outputs": [
    {
     "data": {
      "text/html": [
       "<div>\n",
       "<style scoped>\n",
       "    .dataframe tbody tr th:only-of-type {\n",
       "        vertical-align: middle;\n",
       "    }\n",
       "\n",
       "    .dataframe tbody tr th {\n",
       "        vertical-align: top;\n",
       "    }\n",
       "\n",
       "    .dataframe thead th {\n",
       "        text-align: right;\n",
       "    }\n",
       "</style>\n",
       "<table border=\"1\" class=\"dataframe\">\n",
       "  <thead>\n",
       "    <tr style=\"text-align: right;\">\n",
       "      <th></th>\n",
       "      <th>FIPS_Code</th>\n",
       "      <th>State</th>\n",
       "      <th>Area_name</th>\n",
       "      <th>Civilian_labor_force_2011</th>\n",
       "      <th>Employed_2011</th>\n",
       "      <th>Unemployed_2011</th>\n",
       "      <th>Unemployment_rate_2011</th>\n",
       "      <th>Median_Household_Income_2011</th>\n",
       "      <th>Med_HH_Income_Percent_of_StateTotal_2011</th>\n",
       "    </tr>\n",
       "  </thead>\n",
       "  <tbody>\n",
       "    <tr>\n",
       "      <th>0</th>\n",
       "      <td>0</td>\n",
       "      <td>US</td>\n",
       "      <td>United States</td>\n",
       "      <td>154505871</td>\n",
       "      <td>140674478</td>\n",
       "      <td>13831393</td>\n",
       "      <td>9</td>\n",
       "      <td>50502</td>\n",
       "      <td>100</td>\n",
       "    </tr>\n",
       "    <tr>\n",
       "      <th>1</th>\n",
       "      <td>1000</td>\n",
       "      <td>AL</td>\n",
       "      <td>Alabama</td>\n",
       "      <td>2190519</td>\n",
       "      <td>1993977</td>\n",
       "      <td>196542</td>\n",
       "      <td>9</td>\n",
       "      <td>41427</td>\n",
       "      <td>100</td>\n",
       "    </tr>\n",
       "    <tr>\n",
       "      <th>2</th>\n",
       "      <td>1001</td>\n",
       "      <td>AL</td>\n",
       "      <td>Autauga County</td>\n",
       "      <td>25930</td>\n",
       "      <td>23854</td>\n",
       "      <td>2076</td>\n",
       "      <td>8</td>\n",
       "      <td>48863</td>\n",
       "      <td>117.9</td>\n",
       "    </tr>\n",
       "  </tbody>\n",
       "</table>\n",
       "</div>"
      ],
      "text/plain": [
       "   FIPS_Code State       Area_name Civilian_labor_force_2011 Employed_2011  \\\n",
       "0          0    US   United States                 154505871     140674478   \n",
       "1       1000    AL         Alabama                   2190519       1993977   \n",
       "2       1001    AL  Autauga County                     25930         23854   \n",
       "\n",
       "  Unemployed_2011 Unemployment_rate_2011 Median_Household_Income_2011  \\\n",
       "0        13831393                      9                        50502   \n",
       "1          196542                      9                        41427   \n",
       "2            2076                      8                        48863   \n",
       "\n",
       "  Med_HH_Income_Percent_of_StateTotal_2011  \n",
       "0                                      100  \n",
       "1                                      100  \n",
       "2                                    117.9  "
      ]
     },
     "execution_count": 111,
     "metadata": {},
     "output_type": "execute_result"
    }
   ],
   "source": [
    "us_geo = 'Week5-Visualization/geo/us-states.json'\n",
    "data = pd.read_csv('./Week5-Visualization/us_county_data.csv')\n",
    "data.head(3)"
   ]
  },
  {
   "cell_type": "code",
   "execution_count": 118,
   "metadata": {},
   "outputs": [
    {
     "name": "stdout",
     "output_type": "stream",
     "text": [
      "3276\n"
     ]
    },
    {
     "data": {
      "text/html": [
       "<div>\n",
       "<style scoped>\n",
       "    .dataframe tbody tr th:only-of-type {\n",
       "        vertical-align: middle;\n",
       "    }\n",
       "\n",
       "    .dataframe tbody tr th {\n",
       "        vertical-align: top;\n",
       "    }\n",
       "\n",
       "    .dataframe thead th {\n",
       "        text-align: right;\n",
       "    }\n",
       "</style>\n",
       "<table border=\"1\" class=\"dataframe\">\n",
       "  <thead>\n",
       "    <tr style=\"text-align: right;\">\n",
       "      <th></th>\n",
       "      <th>FIPS_Code</th>\n",
       "      <th>State</th>\n",
       "      <th>Area_name</th>\n",
       "      <th>Civilian_labor_force_2011</th>\n",
       "      <th>Employed_2011</th>\n",
       "      <th>Unemployed_2011</th>\n",
       "      <th>Unemployment_rate_2011</th>\n",
       "      <th>Median_Household_Income_2011</th>\n",
       "      <th>Med_HH_Income_Percent_of_StateTotal_2011</th>\n",
       "    </tr>\n",
       "  </thead>\n",
       "  <tbody>\n",
       "    <tr>\n",
       "      <th>2</th>\n",
       "      <td>1001</td>\n",
       "      <td>AL</td>\n",
       "      <td>Autauga County</td>\n",
       "      <td>25930</td>\n",
       "      <td>23854</td>\n",
       "      <td>2076</td>\n",
       "      <td>8</td>\n",
       "      <td>48863</td>\n",
       "      <td>117.9</td>\n",
       "    </tr>\n",
       "    <tr>\n",
       "      <th>3</th>\n",
       "      <td>1003</td>\n",
       "      <td>AL</td>\n",
       "      <td>Baldwin County</td>\n",
       "      <td>85407</td>\n",
       "      <td>78491</td>\n",
       "      <td>6916</td>\n",
       "      <td>8.1</td>\n",
       "      <td>50144</td>\n",
       "      <td>121</td>\n",
       "    </tr>\n",
       "    <tr>\n",
       "      <th>4</th>\n",
       "      <td>1005</td>\n",
       "      <td>AL</td>\n",
       "      <td>Barbour County</td>\n",
       "      <td>9761</td>\n",
       "      <td>8651</td>\n",
       "      <td>1110</td>\n",
       "      <td>11.4</td>\n",
       "      <td>30117</td>\n",
       "      <td>72.7</td>\n",
       "    </tr>\n",
       "    <tr>\n",
       "      <th>5</th>\n",
       "      <td>1007</td>\n",
       "      <td>AL</td>\n",
       "      <td>Bibb County</td>\n",
       "      <td>9216</td>\n",
       "      <td>8303</td>\n",
       "      <td>913</td>\n",
       "      <td>9.9</td>\n",
       "      <td>37347</td>\n",
       "      <td>90.2</td>\n",
       "    </tr>\n",
       "    <tr>\n",
       "      <th>6</th>\n",
       "      <td>1009</td>\n",
       "      <td>AL</td>\n",
       "      <td>Blount County</td>\n",
       "      <td>26347</td>\n",
       "      <td>24156</td>\n",
       "      <td>2191</td>\n",
       "      <td>8.3</td>\n",
       "      <td>41940</td>\n",
       "      <td>101.2</td>\n",
       "    </tr>\n",
       "  </tbody>\n",
       "</table>\n",
       "</div>"
      ],
      "text/plain": [
       "   FIPS_Code State       Area_name Civilian_labor_force_2011 Employed_2011  \\\n",
       "2       1001    AL  Autauga County                     25930         23854   \n",
       "3       1003    AL  Baldwin County                     85407         78491   \n",
       "4       1005    AL  Barbour County                      9761          8651   \n",
       "5       1007    AL     Bibb County                      9216          8303   \n",
       "6       1009    AL   Blount County                     26347         24156   \n",
       "\n",
       "  Unemployed_2011 Unemployment_rate_2011 Median_Household_Income_2011  \\\n",
       "2            2076                      8                        48863   \n",
       "3            6916                    8.1                        50144   \n",
       "4            1110                   11.4                        30117   \n",
       "5             913                    9.9                        37347   \n",
       "6            2191                    8.3                        41940   \n",
       "\n",
       "  Med_HH_Income_Percent_of_StateTotal_2011  \n",
       "2                                    117.9  \n",
       "3                                      121  \n",
       "4                                     72.7  \n",
       "5                                     90.2  \n",
       "6                                    101.2  "
      ]
     },
     "execution_count": 118,
     "metadata": {},
     "output_type": "execute_result"
    }
   ],
   "source": [
    "print(len(data))\n",
    "mask1 = data.Area_name.str.contains('County')\n",
    "stage1 = data[mask1]\n",
    "stage1.head(5)"
   ]
  },
  {
   "cell_type": "code",
   "execution_count": 149,
   "metadata": {},
   "outputs": [
    {
     "data": {
      "text/html": [
       "<div>\n",
       "<style scoped>\n",
       "    .dataframe tbody tr th:only-of-type {\n",
       "        vertical-align: middle;\n",
       "    }\n",
       "\n",
       "    .dataframe tbody tr th {\n",
       "        vertical-align: top;\n",
       "    }\n",
       "\n",
       "    .dataframe thead th {\n",
       "        text-align: right;\n",
       "    }\n",
       "</style>\n",
       "<table border=\"1\" class=\"dataframe\">\n",
       "  <thead>\n",
       "    <tr style=\"text-align: right;\">\n",
       "      <th></th>\n",
       "      <th>State</th>\n",
       "      <th>Median_Household_Income_2011</th>\n",
       "    </tr>\n",
       "  </thead>\n",
       "  <tbody>\n",
       "    <tr>\n",
       "      <th>0</th>\n",
       "      <td>AL</td>\n",
       "      <td>67</td>\n",
       "    </tr>\n",
       "    <tr>\n",
       "      <th>1</th>\n",
       "      <td>AR</td>\n",
       "      <td>75</td>\n",
       "    </tr>\n",
       "    <tr>\n",
       "      <th>2</th>\n",
       "      <td>AZ</td>\n",
       "      <td>15</td>\n",
       "    </tr>\n",
       "  </tbody>\n",
       "</table>\n",
       "</div>"
      ],
      "text/plain": [
       "  State  Median_Household_Income_2011\n",
       "0    AL                            67\n",
       "1    AR                            75\n",
       "2    AZ                            15"
      ]
     },
     "execution_count": 149,
     "metadata": {},
     "output_type": "execute_result"
    }
   ],
   "source": [
    "#help(data.Area_name.str)\n",
    "plot_data = stage1[['State','Median_Household_Income_2011']].groupby('State', as_index=False).count()\n",
    "plot_data.head(3)"
   ]
  },
  {
   "cell_type": "code",
   "execution_count": 127,
   "metadata": {},
   "outputs": [],
   "source": [
    "#help(stage1.groupby(by='State').Median_Household_Income_2011.agg)"
   ]
  },
  {
   "cell_type": "code",
   "execution_count": 157,
   "metadata": {
    "collapsed": true
   },
   "outputs": [],
   "source": [
    "def do_map(g_data, p_data, code, val):\n",
    "    map = folium.Map(location=[100,0], zoom_start=1.5)\n",
    "    map.choropleth(geo_data=g_data, data=p_data,\n",
    "              columns=[code, val],\n",
    "              key_on = 'feature.id',\n",
    "              fill_color='YlGnBu', fill_capacity=0.7, line_oapacity=0.2,\n",
    "              legend_name=hist_indicator)\n",
    "    map.save('plot_data.html')\n",
    "    HTML('<iframe src=plot_data.html width=900 height=700></iframe>')"
   ]
  },
  {
   "cell_type": "code",
   "execution_count": 158,
   "metadata": {},
   "outputs": [
    {
     "name": "stderr",
     "output_type": "stream",
     "text": [
      "/Users/r38411/anaconda2/envs/py35/lib/python3.5/site-packages/folium/folium.py:426: FutureWarning: The choropleth  method has been deprecated. Instead use the new Choropleth class, which has the same arguments. See the example notebook 'GeoJSON_and_choropleth' for how to do this.\n",
      "  FutureWarning\n"
     ]
    }
   ],
   "source": [
    "do_map(us_geo, plot_data, 'State', 'Median_Household_Income_2011')"
   ]
  },
  {
   "cell_type": "code",
   "execution_count": 159,
   "metadata": {},
   "outputs": [
    {
     "data": {
      "text/html": [
       "<iframe src=plot_data.html width=900 height=700></iframe>"
      ],
      "text/plain": [
       "<IPython.core.display.HTML object>"
      ]
     },
     "execution_count": 159,
     "metadata": {},
     "output_type": "execute_result"
    }
   ],
   "source": [
    "HTML('<iframe src=plot_data.html width=900 height=700></iframe>')"
   ]
  },
  {
   "cell_type": "code",
   "execution_count": null,
   "metadata": {
    "collapsed": true
   },
   "outputs": [],
   "source": []
  }
 ],
 "metadata": {
  "kernelspec": {
   "display_name": "Python 3",
   "language": "python",
   "name": "python3"
  },
  "language_info": {
   "codemirror_mode": {
    "name": "ipython",
    "version": 3
   },
   "file_extension": ".py",
   "mimetype": "text/x-python",
   "name": "python",
   "nbconvert_exporter": "python",
   "pygments_lexer": "ipython3",
   "version": "3.5.4"
  }
 },
 "nbformat": 4,
 "nbformat_minor": 2
}
