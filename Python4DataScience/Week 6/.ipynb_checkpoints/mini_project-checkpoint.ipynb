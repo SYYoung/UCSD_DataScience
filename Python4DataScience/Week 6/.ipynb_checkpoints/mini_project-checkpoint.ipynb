{
 "cells": [
  {
   "cell_type": "code",
   "execution_count": 1,
   "metadata": {
    "collapsed": true
   },
   "outputs": [],
   "source": [
    "import pandas as pd\n",
    "import numpy as np\n",
    "import folium\n",
    "%matplotlib inline"
   ]
  },
  {
   "cell_type": "markdown",
   "metadata": {},
   "source": [
    "## Here are the questions we want to answer:\n",
    "## 1. which state has the highest median income, which one has the lowest median income\n",
    "## 2. the distribution of the median income among the states\n",
    "## 3. Is there inequality among the states, inside the state? "
   ]
  },
  {
   "cell_type": "code",
   "execution_count": 2,
   "metadata": {},
   "outputs": [
    {
     "data": {
      "text/html": [
       "<div>\n",
       "<style scoped>\n",
       "    .dataframe tbody tr th:only-of-type {\n",
       "        vertical-align: middle;\n",
       "    }\n",
       "\n",
       "    .dataframe tbody tr th {\n",
       "        vertical-align: top;\n",
       "    }\n",
       "\n",
       "    .dataframe thead th {\n",
       "        text-align: right;\n",
       "    }\n",
       "</style>\n",
       "<table border=\"1\" class=\"dataframe\">\n",
       "  <thead>\n",
       "    <tr style=\"text-align: right;\">\n",
       "      <th></th>\n",
       "      <th>FIPS_Code</th>\n",
       "      <th>State</th>\n",
       "      <th>Area_name</th>\n",
       "      <th>Civilian_labor_force_2011</th>\n",
       "      <th>Employed_2011</th>\n",
       "      <th>Unemployed_2011</th>\n",
       "      <th>Unemployment_rate_2011</th>\n",
       "      <th>Median_Household_Income_2011</th>\n",
       "      <th>Med_HH_Income_Percent_of_StateTotal_2011</th>\n",
       "    </tr>\n",
       "  </thead>\n",
       "  <tbody>\n",
       "    <tr>\n",
       "      <th>0</th>\n",
       "      <td>0</td>\n",
       "      <td>US</td>\n",
       "      <td>United States</td>\n",
       "      <td>154505871</td>\n",
       "      <td>140674478</td>\n",
       "      <td>13831393</td>\n",
       "      <td>9</td>\n",
       "      <td>50502</td>\n",
       "      <td>100</td>\n",
       "    </tr>\n",
       "    <tr>\n",
       "      <th>1</th>\n",
       "      <td>1000</td>\n",
       "      <td>AL</td>\n",
       "      <td>Alabama</td>\n",
       "      <td>2190519</td>\n",
       "      <td>1993977</td>\n",
       "      <td>196542</td>\n",
       "      <td>9</td>\n",
       "      <td>41427</td>\n",
       "      <td>100</td>\n",
       "    </tr>\n",
       "    <tr>\n",
       "      <th>2</th>\n",
       "      <td>1001</td>\n",
       "      <td>AL</td>\n",
       "      <td>Autauga County</td>\n",
       "      <td>25930</td>\n",
       "      <td>23854</td>\n",
       "      <td>2076</td>\n",
       "      <td>8</td>\n",
       "      <td>48863</td>\n",
       "      <td>117.9</td>\n",
       "    </tr>\n",
       "  </tbody>\n",
       "</table>\n",
       "</div>"
      ],
      "text/plain": [
       "   FIPS_Code State       Area_name Civilian_labor_force_2011 Employed_2011  \\\n",
       "0          0    US   United States                 154505871     140674478   \n",
       "1       1000    AL         Alabama                   2190519       1993977   \n",
       "2       1001    AL  Autauga County                     25930         23854   \n",
       "\n",
       "  Unemployed_2011 Unemployment_rate_2011 Median_Household_Income_2011  \\\n",
       "0        13831393                      9                        50502   \n",
       "1          196542                      9                        41427   \n",
       "2            2076                      8                        48863   \n",
       "\n",
       "  Med_HH_Income_Percent_of_StateTotal_2011  \n",
       "0                                      100  \n",
       "1                                      100  \n",
       "2                                    117.9  "
      ]
     },
     "execution_count": 2,
     "metadata": {},
     "output_type": "execute_result"
    }
   ],
   "source": [
    "data = pd.read_csv('../Week 5/Week5-Visualization/us_county_data.csv')\n",
    "data.head(3)"
   ]
  },
  {
   "cell_type": "code",
   "execution_count": 3,
   "metadata": {},
   "outputs": [
    {
     "data": {
      "text/plain": [
       "numpy.ndarray"
      ]
     },
     "execution_count": 3,
     "metadata": {},
     "output_type": "execute_result"
    }
   ],
   "source": [
    "type(data.Median_Household_Income_2011.values)"
   ]
  },
  {
   "cell_type": "code",
   "execution_count": 4,
   "metadata": {},
   "outputs": [
    {
     "data": {
      "text/html": [
       "<div>\n",
       "<style scoped>\n",
       "    .dataframe tbody tr th:only-of-type {\n",
       "        vertical-align: middle;\n",
       "    }\n",
       "\n",
       "    .dataframe tbody tr th {\n",
       "        vertical-align: top;\n",
       "    }\n",
       "\n",
       "    .dataframe thead th {\n",
       "        text-align: right;\n",
       "    }\n",
       "</style>\n",
       "<table border=\"1\" class=\"dataframe\">\n",
       "  <thead>\n",
       "    <tr style=\"text-align: right;\">\n",
       "      <th></th>\n",
       "      <th>index</th>\n",
       "      <th>FIPS_Code</th>\n",
       "      <th>State</th>\n",
       "      <th>Area_name</th>\n",
       "      <th>Civilian_labor_force_2011</th>\n",
       "      <th>Employed_2011</th>\n",
       "      <th>Unemployed_2011</th>\n",
       "      <th>Unemployment_rate_2011</th>\n",
       "      <th>Median_Household_Income_2011</th>\n",
       "      <th>Med_HH_Income_Percent_of_StateTotal_2011</th>\n",
       "    </tr>\n",
       "  </thead>\n",
       "  <tbody>\n",
       "    <tr>\n",
       "      <th>0</th>\n",
       "      <td>2</td>\n",
       "      <td>1001</td>\n",
       "      <td>AL</td>\n",
       "      <td>Autauga County</td>\n",
       "      <td>25930</td>\n",
       "      <td>23854</td>\n",
       "      <td>2076</td>\n",
       "      <td>8</td>\n",
       "      <td>48863</td>\n",
       "      <td>117.9</td>\n",
       "    </tr>\n",
       "    <tr>\n",
       "      <th>1</th>\n",
       "      <td>3</td>\n",
       "      <td>1003</td>\n",
       "      <td>AL</td>\n",
       "      <td>Baldwin County</td>\n",
       "      <td>85407</td>\n",
       "      <td>78491</td>\n",
       "      <td>6916</td>\n",
       "      <td>8.1</td>\n",
       "      <td>50144</td>\n",
       "      <td>121</td>\n",
       "    </tr>\n",
       "    <tr>\n",
       "      <th>2</th>\n",
       "      <td>4</td>\n",
       "      <td>1005</td>\n",
       "      <td>AL</td>\n",
       "      <td>Barbour County</td>\n",
       "      <td>9761</td>\n",
       "      <td>8651</td>\n",
       "      <td>1110</td>\n",
       "      <td>11.4</td>\n",
       "      <td>30117</td>\n",
       "      <td>72.7</td>\n",
       "    </tr>\n",
       "  </tbody>\n",
       "</table>\n",
       "</div>"
      ],
      "text/plain": [
       "   index  FIPS_Code State       Area_name Civilian_labor_force_2011  \\\n",
       "0      2       1001    AL  Autauga County                     25930   \n",
       "1      3       1003    AL  Baldwin County                     85407   \n",
       "2      4       1005    AL  Barbour County                      9761   \n",
       "\n",
       "  Employed_2011 Unemployed_2011 Unemployment_rate_2011  \\\n",
       "0         23854            2076                      8   \n",
       "1         78491            6916                    8.1   \n",
       "2          8651            1110                   11.4   \n",
       "\n",
       "  Median_Household_Income_2011 Med_HH_Income_Percent_of_StateTotal_2011  \n",
       "0                        48863                                    117.9  \n",
       "1                        50144                                      121  \n",
       "2                        30117                                     72.7  "
      ]
     },
     "execution_count": 4,
     "metadata": {},
     "output_type": "execute_result"
    }
   ],
   "source": [
    "mask1 = data.Area_name.str.contains('County')\n",
    "data1 = data[mask1].reset_index()\n",
    "data1.head(3)"
   ]
  },
  {
   "cell_type": "code",
   "execution_count": 5,
   "metadata": {},
   "outputs": [
    {
     "data": {
      "text/plain": [
       "3006"
      ]
     },
     "execution_count": 5,
     "metadata": {},
     "output_type": "execute_result"
    }
   ],
   "source": [
    "len(data1)"
   ]
  },
  {
   "cell_type": "code",
   "execution_count": 20,
   "metadata": {},
   "outputs": [],
   "source": [
    "data1.Median_Household_Income_2011 = data1.Median_Household_Income_2011.apply(lambda v: int(v))"
   ]
  },
  {
   "cell_type": "code",
   "execution_count": 16,
   "metadata": {},
   "outputs": [],
   "source": [
    "#help(pd.Series)"
   ]
  },
  {
   "cell_type": "code",
   "execution_count": 21,
   "metadata": {},
   "outputs": [
    {
     "data": {
      "text/plain": [
       "numpy.int64"
      ]
     },
     "execution_count": 21,
     "metadata": {},
     "output_type": "execute_result"
    }
   ],
   "source": [
    "type(data1.Median_Household_Income_2011.iloc[0])"
   ]
  },
  {
   "cell_type": "code",
   "execution_count": 22,
   "metadata": {},
   "outputs": [
    {
     "data": {
      "text/html": [
       "<div>\n",
       "<style scoped>\n",
       "    .dataframe tbody tr th:only-of-type {\n",
       "        vertical-align: middle;\n",
       "    }\n",
       "\n",
       "    .dataframe tbody tr th {\n",
       "        vertical-align: top;\n",
       "    }\n",
       "\n",
       "    .dataframe thead th {\n",
       "        text-align: right;\n",
       "    }\n",
       "</style>\n",
       "<table border=\"1\" class=\"dataframe\">\n",
       "  <thead>\n",
       "    <tr style=\"text-align: right;\">\n",
       "      <th></th>\n",
       "      <th>index</th>\n",
       "      <th>FIPS_Code</th>\n",
       "      <th>State</th>\n",
       "      <th>Area_name</th>\n",
       "      <th>Civilian_labor_force_2011</th>\n",
       "      <th>Employed_2011</th>\n",
       "      <th>Unemployed_2011</th>\n",
       "      <th>Unemployment_rate_2011</th>\n",
       "      <th>Median_Household_Income_2011</th>\n",
       "      <th>Med_HH_Income_Percent_of_StateTotal_2011</th>\n",
       "    </tr>\n",
       "  </thead>\n",
       "  <tbody>\n",
       "    <tr>\n",
       "      <th>0</th>\n",
       "      <td>2</td>\n",
       "      <td>1001</td>\n",
       "      <td>AL</td>\n",
       "      <td>Autauga County</td>\n",
       "      <td>25930</td>\n",
       "      <td>23854</td>\n",
       "      <td>2076</td>\n",
       "      <td>8</td>\n",
       "      <td>48863</td>\n",
       "      <td>117.9</td>\n",
       "    </tr>\n",
       "    <tr>\n",
       "      <th>1</th>\n",
       "      <td>3</td>\n",
       "      <td>1003</td>\n",
       "      <td>AL</td>\n",
       "      <td>Baldwin County</td>\n",
       "      <td>85407</td>\n",
       "      <td>78491</td>\n",
       "      <td>6916</td>\n",
       "      <td>8.1</td>\n",
       "      <td>50144</td>\n",
       "      <td>121</td>\n",
       "    </tr>\n",
       "    <tr>\n",
       "      <th>2</th>\n",
       "      <td>4</td>\n",
       "      <td>1005</td>\n",
       "      <td>AL</td>\n",
       "      <td>Barbour County</td>\n",
       "      <td>9761</td>\n",
       "      <td>8651</td>\n",
       "      <td>1110</td>\n",
       "      <td>11.4</td>\n",
       "      <td>30117</td>\n",
       "      <td>72.7</td>\n",
       "    </tr>\n",
       "  </tbody>\n",
       "</table>\n",
       "</div>"
      ],
      "text/plain": [
       "   index  FIPS_Code State       Area_name Civilian_labor_force_2011  \\\n",
       "0      2       1001    AL  Autauga County                     25930   \n",
       "1      3       1003    AL  Baldwin County                     85407   \n",
       "2      4       1005    AL  Barbour County                      9761   \n",
       "\n",
       "  Employed_2011 Unemployed_2011 Unemployment_rate_2011  \\\n",
       "0         23854            2076                      8   \n",
       "1         78491            6916                    8.1   \n",
       "2          8651            1110                   11.4   \n",
       "\n",
       "   Median_Household_Income_2011 Med_HH_Income_Percent_of_StateTotal_2011  \n",
       "0                         48863                                    117.9  \n",
       "1                         50144                                      121  \n",
       "2                         30117                                     72.7  "
      ]
     },
     "execution_count": 22,
     "metadata": {},
     "output_type": "execute_result"
    }
   ],
   "source": [
    "data1.head(3)"
   ]
  },
  {
   "cell_type": "code",
   "execution_count": 34,
   "metadata": {},
   "outputs": [
    {
     "data": {
      "text/plain": [
       "State\n",
       "MS    33559.951220\n",
       "AR    35257.440000\n",
       "AL    36435.029851\n",
       "WV    36964.890909\n",
       "KY    37584.200000\n",
       "SC    37932.608696\n",
       "TN    38037.789474\n",
       "NM    38361.242424\n",
       "GA    38797.220126\n",
       "MO    39322.894737\n",
       "AZ    39913.733333\n",
       "OK    40019.727273\n",
       "MT    40168.339286\n",
       "NC    40220.640000\n",
       "FL    41394.343284\n",
       "MI    42042.469880\n",
       "ID    42142.818182\n",
       "TX    42562.905512\n",
       "ME    43207.625000\n",
       "OR    43225.111111\n",
       "SD    43949.378788\n",
       "KS    44546.257143\n",
       "NE    44701.032258\n",
       "OH    45473.068182\n",
       "IN    46444.500000\n",
       "PA    46611.194030\n",
       "IA    47401.181818\n",
       "WA    47544.076923\n",
       "WI    47796.527778\n",
       "IL    47820.637255\n",
       "VT    48595.000000\n",
       "CO    48960.625000\n",
       "ND    49337.320755\n",
       "MN    50000.045977\n",
       "NV    50923.625000\n",
       "UT    50926.482759\n",
       "NY    51111.209677\n",
       "VA    51414.852632\n",
       "CA    51579.431034\n",
       "WY    54523.956522\n",
       "DE    55064.000000\n",
       "NH    55177.400000\n",
       "HI    56600.250000\n",
       "MA    59411.857143\n",
       "RI    61808.400000\n",
       "MD    65141.565217\n",
       "CT    67120.625000\n",
       "NJ    67946.809524\n",
       "Name: Median_Household_Income_2011, dtype: float64"
      ]
     },
     "execution_count": 34,
     "metadata": {},
     "output_type": "execute_result"
    }
   ],
   "source": [
    "med_income = data1.groupby('State').Median_Household_Income_2011.mean()\n",
    "med_income = med_income.sort_values()\n",
    "med_income"
   ]
  },
  {
   "cell_type": "code",
   "execution_count": 38,
   "metadata": {},
   "outputs": [
    {
     "data": {
      "text/plain": [
       "array([33559.95121951, 35257.44      , 36435.02985075, 36964.89090909,\n",
       "       37584.2       , 37932.60869565, 38037.78947368, 38361.24242424,\n",
       "       38797.22012579, 39322.89473684, 39913.73333333, 40019.72727273,\n",
       "       40168.33928571, 40220.64      , 41394.34328358, 42042.46987952,\n",
       "       42142.81818182, 42562.90551181, 43207.625     , 43225.11111111,\n",
       "       43949.37878788, 44546.25714286, 44701.03225806, 45473.06818182,\n",
       "       46444.5       , 46611.19402985, 47401.18181818, 47544.07692308,\n",
       "       47796.52777778, 47820.6372549 , 48595.        , 48960.625     ,\n",
       "       49337.32075472, 50000.04597701, 50923.625     , 50926.48275862,\n",
       "       51111.20967742, 51414.85263158, 51579.43103448, 54523.95652174,\n",
       "       55064.        , 55177.4       , 56600.25      , 59411.85714286,\n",
       "       61808.4       , 65141.56521739, 67120.625     , 67946.80952381])"
      ]
     },
     "execution_count": 38,
     "metadata": {},
     "output_type": "execute_result"
    }
   ],
   "source": [
    "#help(med_income.sort_values)\n",
    "med_income.values"
   ]
  },
  {
   "cell_type": "code",
   "execution_count": 42,
   "metadata": {
    "collapsed": true
   },
   "outputs": [],
   "source": [
    "hist_indicator = 'Median_Household_Income_2011'\n",
    "def do_map(g_data, p_data, code, val):\n",
    "    map = folium.Map(location=[100,0], zoom_start=1.5)\n",
    "    map.choropleth(geo_data=g_data, data=p_data,\n",
    "              columns=[code, val],\n",
    "              key_on = 'feature.id',\n",
    "              fill_color='YlGnBu', fill_capacity=0.7, line_oapacity=0.2,\n",
    "              legend_name=hist_indicator)\n",
    "    map.save('plot_data.html')"
   ]
  },
  {
   "cell_type": "code",
   "execution_count": 37,
   "metadata": {
    "collapsed": true
   },
   "outputs": [],
   "source": [
    "us_geo = '../Week 5/Week5-Visualization/geo/us-states.json'"
   ]
  },
  {
   "cell_type": "code",
   "execution_count": 43,
   "metadata": {},
   "outputs": [
    {
     "name": "stderr",
     "output_type": "stream",
     "text": [
      "/Users/r38411/anaconda2/envs/py35/lib/python3.5/site-packages/folium/folium.py:426: FutureWarning: The choropleth  method has been deprecated. Instead use the new Choropleth class, which has the same arguments. See the example notebook 'GeoJSON_and_choropleth' for how to do this.\n",
      "  FutureWarning\n"
     ]
    }
   ],
   "source": [
    "do_map(us_geo, data1, 'State', 'Median_Household_Income_2011')"
   ]
  },
  {
   "cell_type": "code",
   "execution_count": 44,
   "metadata": {},
   "outputs": [
    {
     "data": {
      "text/html": [
       "<iframe src=plot_data.html width=900 height=700></iframe>"
      ],
      "text/plain": [
       "<IPython.core.display.HTML object>"
      ]
     },
     "execution_count": 44,
     "metadata": {},
     "output_type": "execute_result"
    }
   ],
   "source": [
    "from IPython.display import HTML\n",
    "HTML('<iframe src=plot_data.html width=900 height=700></iframe>')"
   ]
  },
  {
   "cell_type": "code",
   "execution_count": null,
   "metadata": {
    "collapsed": true
   },
   "outputs": [],
   "source": []
  }
 ],
 "metadata": {
  "kernelspec": {
   "display_name": "Python 3",
   "language": "python",
   "name": "python3"
  },
  "language_info": {
   "codemirror_mode": {
    "name": "ipython",
    "version": 3
   },
   "file_extension": ".py",
   "mimetype": "text/x-python",
   "name": "python",
   "nbconvert_exporter": "python",
   "pygments_lexer": "ipython3",
   "version": "3.5.4"
  }
 },
 "nbformat": 4,
 "nbformat_minor": 2
}
